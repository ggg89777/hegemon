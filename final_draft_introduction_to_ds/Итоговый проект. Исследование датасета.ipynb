{
 "cells": [
  {
   "cell_type": "markdown",
   "id": "12144b44",
   "metadata": {},
   "source": [
    "Описание датасета\n",
    "\n",
    "GA Sessions\n",
    "Одна строка = один визит на сайт.\n",
    "Описание атрибутов:\n",
    "- session_id — ID визита;\n",
    "- client_id — ID посетителя;\n",
    "- visit_date — дата визита;\n",
    "- visit_time — время визита;\n",
    "- visit_number — порядковый номер визита клиента;\n",
    "- utm_source — канал привлечения;\n",
    "- utm_medium — тип привлечения;\n",
    "- utm_campaign — рекламная кампания;\n",
    "- utm_keyword — ключевое слово;\n",
    "- device_category — тип устройства;\n",
    "- device_os — ОС устройства;\n",
    "- device_brand — марка устройства;\n",
    "- device_model — модель устройства;\n",
    "- device_screen_resolution — разрешение экрана;\n",
    "- device_brand — марка устройства;\n",
    "- device_model — модель устройства;\n",
    "- device_screen_resolution — разрешение экрана;\n",
    "- device_browser — браузер;\n",
    "- geo_country — страна;\n",
    "- geo_city — город.\n",
    "\n",
    "GA Hits\n",
    "\n",
    "- session_id — ID визита;\n",
    "- hit_date — дата события;\n",
    "- hit_time — время события;\n",
    "- hit_number — порядковый номер события в рамках сессии;\n",
    "- hit_type — тип события;\n",
    "- hit_referer — источник события;\n",
    "- hit_page_path — страница события;\n",
    "- event_category — тип действия;\n",
    "- event_action — действие;\n",
    "- event_label — тег действия;\n",
    "- event_value — значение результата действия."
   ]
  },
  {
   "cell_type": "markdown",
   "id": "d7a250e5",
   "metadata": {},
   "source": [
    "## 0 - Import"
   ]
  },
  {
   "cell_type": "code",
   "execution_count": 14,
   "id": "aa377917",
   "metadata": {},
   "outputs": [],
   "source": [
    "import pandas as pd\n",
    "import numpy as np\n",
    "import matplotlib.pyplot as plt\n",
    "import itertools\n",
    "\n",
    "from sklearn.preprocessing import OneHotEncoder\n",
    "from sklearn.preprocessing import StandardScaler\n",
    "from sklearn.feature_extraction.text import CountVectorizer\n",
    "from tqdm.notebook import tqdm\n",
    "from scipy.stats import entropy\n",
    "from sklearn.manifold import TSNE, MDS\n",
    "\n",
    "from sklearn.model_selection import train_test_split, cross_validate, cross_val_score\n",
    "\n",
    "from sklearn.linear_model import LogisticRegression\n",
    "from sklearn.ensemble import RandomForestClassifier\n",
    "from sklearn.tree import DecisionTreeClassifier\n",
    "from sklearn.discriminant_analysis import LinearDiscriminantAnalysis\n",
    "from sklearn.neural_network import MLPClassifier\n",
    "\n",
    "from sklearn.metrics import roc_auc_score\n",
    "from sklearn.metrics import accuracy_score, confusion_matrix\n",
    "from plot_metric.functions import BinaryClassification\n",
    "\n",
    "from sklearn.pipeline import Pipeline\n",
    "\n",
    "import warnings\n",
    "warnings.filterwarnings(\"ignore\")\n",
    "from typing import List, NewType\n",
    "EntropyCategoricalEmbedderObject = NewType('EntropyCategoricalEmbedderObject', object) #creating new type to annotate in our class"
   ]
  },
  {
   "cell_type": "markdown",
   "id": "088c47a6",
   "metadata": {},
   "source": [
    "## 1 - Load file"
   ]
  },
  {
   "cell_type": "code",
   "execution_count": 3,
   "id": "92786247",
   "metadata": {},
   "outputs": [],
   "source": [
    "df_sessions = pd.read_csv(\"data/ga_sessions.csv\")\n",
    "df_hits = pd.read_csv(\"data/ga_hits.csv\")"
   ]
  },
  {
   "cell_type": "code",
   "execution_count": 4,
   "id": "5f686a5f",
   "metadata": {},
   "outputs": [
    {
     "data": {
      "text/html": [
       "<div>\n",
       "<style scoped>\n",
       "    .dataframe tbody tr th:only-of-type {\n",
       "        vertical-align: middle;\n",
       "    }\n",
       "\n",
       "    .dataframe tbody tr th {\n",
       "        vertical-align: top;\n",
       "    }\n",
       "\n",
       "    .dataframe thead th {\n",
       "        text-align: right;\n",
       "    }\n",
       "</style>\n",
       "<table border=\"1\" class=\"dataframe\">\n",
       "  <thead>\n",
       "    <tr style=\"text-align: right;\">\n",
       "      <th></th>\n",
       "      <th>session_id</th>\n",
       "      <th>client_id</th>\n",
       "      <th>visit_date</th>\n",
       "      <th>visit_time</th>\n",
       "      <th>visit_number</th>\n",
       "      <th>utm_source</th>\n",
       "      <th>utm_medium</th>\n",
       "      <th>utm_campaign</th>\n",
       "      <th>utm_adcontent</th>\n",
       "      <th>utm_keyword</th>\n",
       "      <th>device_category</th>\n",
       "      <th>device_os</th>\n",
       "      <th>device_brand</th>\n",
       "      <th>device_model</th>\n",
       "      <th>device_screen_resolution</th>\n",
       "      <th>device_browser</th>\n",
       "      <th>geo_country</th>\n",
       "      <th>geo_city</th>\n",
       "    </tr>\n",
       "  </thead>\n",
       "  <tbody>\n",
       "    <tr>\n",
       "      <th>0</th>\n",
       "      <td>9055434745589932991.1637753792.1637753792</td>\n",
       "      <td>2108382700.163776</td>\n",
       "      <td>2021-11-24</td>\n",
       "      <td>14:36:32</td>\n",
       "      <td>1</td>\n",
       "      <td>ZpYIoDJMcFzVoPFsHGJL</td>\n",
       "      <td>banner</td>\n",
       "      <td>LEoPHuyFvzoNfnzGgfcd</td>\n",
       "      <td>vCIpmpaGBnIQhyYNkXqp</td>\n",
       "      <td>puhZPIYqKXeFPaUviSjo</td>\n",
       "      <td>mobile</td>\n",
       "      <td>Android</td>\n",
       "      <td>Huawei</td>\n",
       "      <td>NaN</td>\n",
       "      <td>360x720</td>\n",
       "      <td>Chrome</td>\n",
       "      <td>Russia</td>\n",
       "      <td>Zlatoust</td>\n",
       "    </tr>\n",
       "    <tr>\n",
       "      <th>1</th>\n",
       "      <td>905544597018549464.1636867290.1636867290</td>\n",
       "      <td>210838531.163687</td>\n",
       "      <td>2021-11-14</td>\n",
       "      <td>08:21:30</td>\n",
       "      <td>1</td>\n",
       "      <td>MvfHsxITijuriZxsqZqt</td>\n",
       "      <td>cpm</td>\n",
       "      <td>FTjNLDyTrXaWYgZymFkV</td>\n",
       "      <td>xhoenQgDQsgfEPYNPwKO</td>\n",
       "      <td>IGUCNvHlhfHpROGclCit</td>\n",
       "      <td>mobile</td>\n",
       "      <td>Android</td>\n",
       "      <td>Samsung</td>\n",
       "      <td>NaN</td>\n",
       "      <td>385x854</td>\n",
       "      <td>Samsung Internet</td>\n",
       "      <td>Russia</td>\n",
       "      <td>Moscow</td>\n",
       "    </tr>\n",
       "    <tr>\n",
       "      <th>2</th>\n",
       "      <td>9055446045651783499.1640648526.1640648526</td>\n",
       "      <td>2108385331.164065</td>\n",
       "      <td>2021-12-28</td>\n",
       "      <td>02:42:06</td>\n",
       "      <td>1</td>\n",
       "      <td>ZpYIoDJMcFzVoPFsHGJL</td>\n",
       "      <td>banner</td>\n",
       "      <td>LEoPHuyFvzoNfnzGgfcd</td>\n",
       "      <td>vCIpmpaGBnIQhyYNkXqp</td>\n",
       "      <td>puhZPIYqKXeFPaUviSjo</td>\n",
       "      <td>mobile</td>\n",
       "      <td>Android</td>\n",
       "      <td>Huawei</td>\n",
       "      <td>NaN</td>\n",
       "      <td>360x720</td>\n",
       "      <td>Chrome</td>\n",
       "      <td>Russia</td>\n",
       "      <td>Krasnoyarsk</td>\n",
       "    </tr>\n",
       "    <tr>\n",
       "      <th>3</th>\n",
       "      <td>9055447046360770272.1622255328.1622255328</td>\n",
       "      <td>2108385564.162225</td>\n",
       "      <td>2021-05-29</td>\n",
       "      <td>05:00:00</td>\n",
       "      <td>1</td>\n",
       "      <td>kjsLglQLzykiRbcDiGcD</td>\n",
       "      <td>cpc</td>\n",
       "      <td>NaN</td>\n",
       "      <td>NOBKLgtuvqYWkXQHeYWM</td>\n",
       "      <td>NaN</td>\n",
       "      <td>mobile</td>\n",
       "      <td>NaN</td>\n",
       "      <td>Xiaomi</td>\n",
       "      <td>NaN</td>\n",
       "      <td>393x786</td>\n",
       "      <td>Chrome</td>\n",
       "      <td>Russia</td>\n",
       "      <td>Moscow</td>\n",
       "    </tr>\n",
       "    <tr>\n",
       "      <th>4</th>\n",
       "      <td>9055447046360770272.1622255345.1622255345</td>\n",
       "      <td>2108385564.162225</td>\n",
       "      <td>2021-05-29</td>\n",
       "      <td>05:00:00</td>\n",
       "      <td>2</td>\n",
       "      <td>kjsLglQLzykiRbcDiGcD</td>\n",
       "      <td>cpc</td>\n",
       "      <td>NaN</td>\n",
       "      <td>NaN</td>\n",
       "      <td>NaN</td>\n",
       "      <td>mobile</td>\n",
       "      <td>NaN</td>\n",
       "      <td>Xiaomi</td>\n",
       "      <td>NaN</td>\n",
       "      <td>393x786</td>\n",
       "      <td>Chrome</td>\n",
       "      <td>Russia</td>\n",
       "      <td>Moscow</td>\n",
       "    </tr>\n",
       "  </tbody>\n",
       "</table>\n",
       "</div>"
      ],
      "text/plain": [
       "                                  session_id          client_id  visit_date  \\\n",
       "0  9055434745589932991.1637753792.1637753792  2108382700.163776  2021-11-24   \n",
       "1   905544597018549464.1636867290.1636867290   210838531.163687  2021-11-14   \n",
       "2  9055446045651783499.1640648526.1640648526  2108385331.164065  2021-12-28   \n",
       "3  9055447046360770272.1622255328.1622255328  2108385564.162225  2021-05-29   \n",
       "4  9055447046360770272.1622255345.1622255345  2108385564.162225  2021-05-29   \n",
       "\n",
       "  visit_time  visit_number            utm_source utm_medium  \\\n",
       "0   14:36:32             1  ZpYIoDJMcFzVoPFsHGJL     banner   \n",
       "1   08:21:30             1  MvfHsxITijuriZxsqZqt        cpm   \n",
       "2   02:42:06             1  ZpYIoDJMcFzVoPFsHGJL     banner   \n",
       "3   05:00:00             1  kjsLglQLzykiRbcDiGcD        cpc   \n",
       "4   05:00:00             2  kjsLglQLzykiRbcDiGcD        cpc   \n",
       "\n",
       "           utm_campaign         utm_adcontent           utm_keyword  \\\n",
       "0  LEoPHuyFvzoNfnzGgfcd  vCIpmpaGBnIQhyYNkXqp  puhZPIYqKXeFPaUviSjo   \n",
       "1  FTjNLDyTrXaWYgZymFkV  xhoenQgDQsgfEPYNPwKO  IGUCNvHlhfHpROGclCit   \n",
       "2  LEoPHuyFvzoNfnzGgfcd  vCIpmpaGBnIQhyYNkXqp  puhZPIYqKXeFPaUviSjo   \n",
       "3                   NaN  NOBKLgtuvqYWkXQHeYWM                   NaN   \n",
       "4                   NaN                   NaN                   NaN   \n",
       "\n",
       "  device_category device_os device_brand device_model  \\\n",
       "0          mobile   Android       Huawei          NaN   \n",
       "1          mobile   Android      Samsung          NaN   \n",
       "2          mobile   Android       Huawei          NaN   \n",
       "3          mobile       NaN       Xiaomi          NaN   \n",
       "4          mobile       NaN       Xiaomi          NaN   \n",
       "\n",
       "  device_screen_resolution    device_browser geo_country     geo_city  \n",
       "0                  360x720            Chrome      Russia     Zlatoust  \n",
       "1                  385x854  Samsung Internet      Russia       Moscow  \n",
       "2                  360x720            Chrome      Russia  Krasnoyarsk  \n",
       "3                  393x786            Chrome      Russia       Moscow  \n",
       "4                  393x786            Chrome      Russia       Moscow  "
      ]
     },
     "execution_count": 4,
     "metadata": {},
     "output_type": "execute_result"
    }
   ],
   "source": [
    "df_sessions.head(5)"
   ]
  },
  {
   "cell_type": "code",
   "execution_count": 5,
   "id": "20413b3e",
   "metadata": {},
   "outputs": [
    {
     "data": {
      "text/html": [
       "<div>\n",
       "<style scoped>\n",
       "    .dataframe tbody tr th:only-of-type {\n",
       "        vertical-align: middle;\n",
       "    }\n",
       "\n",
       "    .dataframe tbody tr th {\n",
       "        vertical-align: top;\n",
       "    }\n",
       "\n",
       "    .dataframe thead th {\n",
       "        text-align: right;\n",
       "    }\n",
       "</style>\n",
       "<table border=\"1\" class=\"dataframe\">\n",
       "  <thead>\n",
       "    <tr style=\"text-align: right;\">\n",
       "      <th></th>\n",
       "      <th>session_id</th>\n",
       "      <th>hit_date</th>\n",
       "      <th>hit_time</th>\n",
       "      <th>hit_number</th>\n",
       "      <th>hit_type</th>\n",
       "      <th>hit_referer</th>\n",
       "      <th>hit_page_path</th>\n",
       "      <th>event_category</th>\n",
       "      <th>event_action</th>\n",
       "      <th>event_label</th>\n",
       "      <th>event_value</th>\n",
       "    </tr>\n",
       "  </thead>\n",
       "  <tbody>\n",
       "    <tr>\n",
       "      <th>0</th>\n",
       "      <td>5639623078712724064.1640254056.1640254056</td>\n",
       "      <td>2021-12-23</td>\n",
       "      <td>597864.0</td>\n",
       "      <td>30</td>\n",
       "      <td>event</td>\n",
       "      <td>NaN</td>\n",
       "      <td>sberauto.com/cars?utm_source_initial=google&amp;ut...</td>\n",
       "      <td>quiz</td>\n",
       "      <td>quiz_show</td>\n",
       "      <td>NaN</td>\n",
       "      <td>NaN</td>\n",
       "    </tr>\n",
       "    <tr>\n",
       "      <th>1</th>\n",
       "      <td>7750352294969115059.1640271109.1640271109</td>\n",
       "      <td>2021-12-23</td>\n",
       "      <td>597331.0</td>\n",
       "      <td>41</td>\n",
       "      <td>event</td>\n",
       "      <td>NaN</td>\n",
       "      <td>sberauto.com/cars/fiat?city=1&amp;city=18&amp;rental_c...</td>\n",
       "      <td>quiz</td>\n",
       "      <td>quiz_show</td>\n",
       "      <td>NaN</td>\n",
       "      <td>NaN</td>\n",
       "    </tr>\n",
       "    <tr>\n",
       "      <th>2</th>\n",
       "      <td>885342191847998240.1640235807.1640235807</td>\n",
       "      <td>2021-12-23</td>\n",
       "      <td>796252.0</td>\n",
       "      <td>49</td>\n",
       "      <td>event</td>\n",
       "      <td>NaN</td>\n",
       "      <td>sberauto.com/cars/all/volkswagen/polo/e994838f...</td>\n",
       "      <td>quiz</td>\n",
       "      <td>quiz_show</td>\n",
       "      <td>NaN</td>\n",
       "      <td>NaN</td>\n",
       "    </tr>\n",
       "    <tr>\n",
       "      <th>3</th>\n",
       "      <td>142526202120934167.1640211014.1640211014</td>\n",
       "      <td>2021-12-23</td>\n",
       "      <td>934292.0</td>\n",
       "      <td>46</td>\n",
       "      <td>event</td>\n",
       "      <td>NaN</td>\n",
       "      <td>sberauto.com/cars?utm_source_initial=yandex&amp;ut...</td>\n",
       "      <td>quiz</td>\n",
       "      <td>quiz_show</td>\n",
       "      <td>NaN</td>\n",
       "      <td>NaN</td>\n",
       "    </tr>\n",
       "    <tr>\n",
       "      <th>4</th>\n",
       "      <td>3450086108837475701.1640265078.1640265078</td>\n",
       "      <td>2021-12-23</td>\n",
       "      <td>768741.0</td>\n",
       "      <td>79</td>\n",
       "      <td>event</td>\n",
       "      <td>NaN</td>\n",
       "      <td>sberauto.com/cars/all/mercedes-benz/cla-klasse...</td>\n",
       "      <td>quiz</td>\n",
       "      <td>quiz_show</td>\n",
       "      <td>NaN</td>\n",
       "      <td>NaN</td>\n",
       "    </tr>\n",
       "  </tbody>\n",
       "</table>\n",
       "</div>"
      ],
      "text/plain": [
       "                                  session_id    hit_date  hit_time  \\\n",
       "0  5639623078712724064.1640254056.1640254056  2021-12-23  597864.0   \n",
       "1  7750352294969115059.1640271109.1640271109  2021-12-23  597331.0   \n",
       "2   885342191847998240.1640235807.1640235807  2021-12-23  796252.0   \n",
       "3   142526202120934167.1640211014.1640211014  2021-12-23  934292.0   \n",
       "4  3450086108837475701.1640265078.1640265078  2021-12-23  768741.0   \n",
       "\n",
       "   hit_number hit_type hit_referer  \\\n",
       "0          30    event         NaN   \n",
       "1          41    event         NaN   \n",
       "2          49    event         NaN   \n",
       "3          46    event         NaN   \n",
       "4          79    event         NaN   \n",
       "\n",
       "                                       hit_page_path event_category  \\\n",
       "0  sberauto.com/cars?utm_source_initial=google&ut...           quiz   \n",
       "1  sberauto.com/cars/fiat?city=1&city=18&rental_c...           quiz   \n",
       "2  sberauto.com/cars/all/volkswagen/polo/e994838f...           quiz   \n",
       "3  sberauto.com/cars?utm_source_initial=yandex&ut...           quiz   \n",
       "4  sberauto.com/cars/all/mercedes-benz/cla-klasse...           quiz   \n",
       "\n",
       "  event_action event_label  event_value  \n",
       "0    quiz_show         NaN          NaN  \n",
       "1    quiz_show         NaN          NaN  \n",
       "2    quiz_show         NaN          NaN  \n",
       "3    quiz_show         NaN          NaN  \n",
       "4    quiz_show         NaN          NaN  "
      ]
     },
     "execution_count": 5,
     "metadata": {},
     "output_type": "execute_result"
    }
   ],
   "source": [
    "df_hits.head(5)"
   ]
  },
  {
   "cell_type": "markdown",
   "id": "9891d75c",
   "metadata": {},
   "source": [
    "## 2 - Data Preparation"
   ]
  },
  {
   "cell_type": "markdown",
   "id": "af2482ab",
   "metadata": {},
   "source": [
    "В задаче нам надо предсказать факт совершения пользователем целевого действия при этом на вход модели будут приходить\n",
    "фичи  utm_*, device_*, geo_*, поэтому:\n",
    "\n",
    "1) Необходимо извлечь из таблицы hits факт целевого действия привязанного к session_id.\n",
    "\n",
    "2) В такой модели не учитываются сессии пользователя, так как фичи visit в модель поступать не будет, поэтому\n",
    "необходимо привязать факт совершения целевого действия session_id к client_id.\n",
    "    \n",
    "3) Предварительная подготовка датасета будет заключаться в сопоставлении сессий и клиентов, извлекем из таблицы hits данные\n",
    "совершил клиент целевое действие или нет. Так как на вход модели будут поступать только текущие utm_*, device_*, geo_* фичи,\n",
    "обратиться к таблице hits и посмотреть историю действий клиента мы не сможем, поэтому не имеет смысла создавать из них новые\n",
    "фичи.\n",
    "\n",
    "    \n",
    "4) После удаления дубликатов датасет уменьшится и это облегчит задачу заполнения пропусков. Заполним пропуски\n",
    "и удалим пустые фичи."
   ]
  },
  {
   "cell_type": "markdown",
   "id": "2e51254c",
   "metadata": {},
   "source": [
    "### 2.0 - Preprocessing"
   ]
  },
  {
   "cell_type": "code",
   "execution_count": 6,
   "id": "9660140a",
   "metadata": {},
   "outputs": [],
   "source": [
    "# Функция для формирования датасета ключевого действия клиента df_key_action\n",
    "\n",
    "def create_dataset_key_action(df_sessions, df_hits):\n",
    "\n",
    "    def target_action(df):\n",
    "        if df['event_action'] == 'sub_car_claim_click':\n",
    "            return 1\n",
    "        elif df['event_action'] == 'sub_car_claim_submit_click':\n",
    "            return 1\n",
    "        elif df['event_action'] == 'sub_open_dialog_click':\n",
    "            return 1\n",
    "        elif df['event_action'] == 'sub_custom_question_submit_click':\n",
    "            return 1\n",
    "        elif df['event_action'] == 'sub_call_number_click':\n",
    "            return 1\n",
    "        elif df['event_action'] == 'sub_callback_submit_click':\n",
    "            return 1\n",
    "        elif df['event_action'] == 'sub_submit_success':\n",
    "            return 1\n",
    "        elif df['event_action'] == 'sub_car_request_submit_click':\n",
    "            return 1\n",
    "        else:\n",
    "            return 0\n",
    "\n",
    "    df_hits['y'] = df_hits.apply(target_action,\n",
    "                                 axis=1)  # отмечаем на датасете действия, в которых клиенты совершили target\n",
    "    df_1 = df_hits[df_hits['y'] == 1].copy()  # отделим действия target от остальных\n",
    "\n",
    "    # удалим дубликаты сессий target, так как если клиент совершил несколько target, то они приравниваются к одному target\n",
    "\n",
    "    df_1 = df_1.drop_duplicates(subset=['session_id'])\n",
    "    df_1 = df_1[['session_id', 'y']]  # оставим только колонку y\n",
    "    df_sessions = df_sessions.set_index('session_id')\n",
    "    df_1 = df_1.set_index('session_id')\n",
    "    df_sessions['y'] = df_1['y']  # target сессии объединяются с df_sessions по индексу\n",
    "    df_sessions.y = df_sessions.y.astype(\"str\")\n",
    "    df_sessions = df_sessions.replace({'y': {'nan': '0.0'}})  # заменим nan на 0.0 - клиент не совершил целевое действие\n",
    "    df_sessions.y = df_sessions.y.astype(\"float\").astype(\"int\")\n",
    "\n",
    "    # разделим df_sessions датасет на два датасета - сессии где клиент совершил целевое target и не совершил\n",
    "\n",
    "    df_sessions_1 = df_sessions[df_sessions.y == 1]\n",
    "    df_sessions_0 = df_sessions[df_sessions.y == 0]\n",
    "\n",
    "    # удалим сессии в обоих датасетах по client_id, оставим в датасетах только информацию совершил клиент target или нет\n",
    "    # причем в df_sessions_1 нам не важно какие сессии удалять, а в df_sessions_0 останется последняя сессия target = 0\n",
    "\n",
    "    df_sessions_1 = df_sessions_1.drop_duplicates(subset=['client_id'])\n",
    "    df_sessions_0 = df_sessions_0.drop_duplicates(subset=['client_id'], keep='last')\n",
    "    df_sessions_y = df_sessions_1.append(df_sessions_0)  # объединим датасеты, вверху будут target = 1\n",
    "\n",
    "    # теперь клиенты target = 1 стоят в начате датафрейма и при удалении дубликатов сессий они сохранятся (keep='first')\n",
    "    # в df_sessions_y сохранились дубликаты так как в target=0 сохранились client_id да того как они совершили target = 1\n",
    "\n",
    "    df_sessions_y = df_sessions_y.drop_duplicates(subset=['client_id'], keep='first')\n",
    "\n",
    "    # удаление колонок, не участвующих в модели по условиям задачи\n",
    "\n",
    "    df_key_action = df_sessions_y.set_index('client_id')\n",
    "    df_key_action = df_key_action.drop(\n",
    "        columns=['visit_date', 'visit_time', 'visit_number'])\n",
    "    df_key_action = df_key_action.sample(frac=1)  # перемешать\n",
    "\n",
    "    return df_key_action.copy()"
   ]
  },
  {
   "cell_type": "code",
   "execution_count": 7,
   "id": "033bed94",
   "metadata": {},
   "outputs": [],
   "source": [
    "df_key_action = create_dataset_key_action(df_sessions, df_hits)"
   ]
  },
  {
   "cell_type": "markdown",
   "id": "f05761aa",
   "metadata": {},
   "source": [
    "### 2.1 - Data Cleaning"
   ]
  },
  {
   "cell_type": "code",
   "execution_count": 8,
   "id": "67234cd4",
   "metadata": {},
   "outputs": [
    {
     "name": "stdout",
     "output_type": "stream",
     "text": [
      "<class 'pandas.core.frame.DataFrame'>\n",
      "Index: 1391717 entries, 207632138.16218397 to 558607117.1621851\n",
      "Data columns (total 14 columns):\n",
      " #   Column                    Non-Null Count    Dtype \n",
      "---  ------                    --------------    ----- \n",
      " 0   utm_source                1391690 non-null  object\n",
      " 1   utm_medium                1391717 non-null  object\n",
      " 2   utm_campaign              1257422 non-null  object\n",
      " 3   utm_adcontent             1187393 non-null  object\n",
      " 4   utm_keyword               617910 non-null   object\n",
      " 5   device_category           1391717 non-null  object\n",
      " 6   device_os                 628209 non-null   object\n",
      " 7   device_brand              1139507 non-null  object\n",
      " 8   device_model              13756 non-null    object\n",
      " 9   device_screen_resolution  1391717 non-null  object\n",
      " 10  device_browser            1391717 non-null  object\n",
      " 11  geo_country               1391717 non-null  object\n",
      " 12  geo_city                  1391717 non-null  object\n",
      " 13  y                         1391717 non-null  int32 \n",
      "dtypes: int32(1), object(13)\n",
      "memory usage: 154.0+ MB\n"
     ]
    }
   ],
   "source": [
    "df_key_action.info()"
   ]
  },
  {
   "cell_type": "code",
   "execution_count": 9,
   "id": "f23a098a",
   "metadata": {},
   "outputs": [],
   "source": [
    "# Функции для определения пропущенных значений в датасете\n",
    "\n",
    "def fully_populated_values(df):\n",
    "    print(\"количество полностью заполненных объектов из всей выборки:\", len(df.dropna()))\n",
    "    print(\"процент полностью заполненных объектов из всей выборки:\", round(len(df.dropna()) / len(df) * 100, 2))\n",
    "    \n",
    "def missing_values(df):\n",
    "    missing_values= ((df.isna().sum() / len(df)) * 100).sort_values(ascending = False)\n",
    "    print(\"Процент пропущенных значений для каждого признака: \\n\")\n",
    "    print(missing_values)\n",
    "    missing_values = pd.DataFrame(missing_values)\n",
    "    list_missing = missing_values[missing_values[0] > 0]\n",
    "    print(\"\\n\")\n",
    "    print(\"список всех признаков, в которых имеются пропущенные значения: \\n\")\n",
    "    for i in range(len(list_missing)):\n",
    "        print(list_missing.axes[0][i])"
   ]
  },
  {
   "cell_type": "code",
   "execution_count": 10,
   "id": "7624942f",
   "metadata": {},
   "outputs": [
    {
     "name": "stdout",
     "output_type": "stream",
     "text": [
      "количество полностью заполненных объектов из всей выборки: 12904\n",
      "процент полностью заполненных объектов из всей выборки: 0.93\n"
     ]
    }
   ],
   "source": [
    "fully_populated_values(df_key_action)"
   ]
  },
  {
   "cell_type": "code",
   "execution_count": 11,
   "id": "49b0d121",
   "metadata": {},
   "outputs": [
    {
     "name": "stdout",
     "output_type": "stream",
     "text": [
      "Процент пропущенных значений для каждого признака: \n",
      "\n",
      "device_model                99.011581\n",
      "utm_keyword                 55.600887\n",
      "device_os                   54.860866\n",
      "device_brand                18.122219\n",
      "utm_adcontent               14.681433\n",
      "utm_campaign                 9.649591\n",
      "utm_source                   0.001940\n",
      "utm_medium                   0.000000\n",
      "device_category              0.000000\n",
      "device_screen_resolution     0.000000\n",
      "device_browser               0.000000\n",
      "geo_country                  0.000000\n",
      "geo_city                     0.000000\n",
      "y                            0.000000\n",
      "dtype: float64\n",
      "\n",
      "\n",
      "список всех признаков, в которых имеются пропущенные значения: \n",
      "\n",
      "device_model\n",
      "utm_keyword\n",
      "device_os\n",
      "device_brand\n",
      "utm_adcontent\n",
      "utm_campaign\n",
      "utm_source\n"
     ]
    }
   ],
   "source": [
    "missing_values(df_key_action)"
   ]
  },
  {
   "cell_type": "markdown",
   "id": "4173ae6e",
   "metadata": {},
   "source": [
    "Процент полностью заполненных объектов из всей выборки 0.93% поэтому нельзя просто удалить пропущенные строки\n",
    "\n",
    "В столбце device_model 99% пропущенных значений, так что столбец подлежит удалению\n",
    "\n",
    "Просмотрим также уникальные значения во всех колонках"
   ]
  },
  {
   "cell_type": "code",
   "execution_count": 12,
   "id": "6ab3bedd",
   "metadata": {},
   "outputs": [
    {
     "data": {
      "text/plain": [
       "array([nan, 'puhZPIYqKXeFPaUviSjo', 'jNeZubUpcYKWhGMdPMIS', ...,\n",
       "       'KkSugNEPSKxihKphlMMa', 'VfhMXDwtKbBKHfyoCvdn',\n",
       "       'kqlCAoXcilYvojLadiMz'], dtype=object)"
      ]
     },
     "execution_count": 12,
     "metadata": {},
     "output_type": "execute_result"
    }
   ],
   "source": [
    "df_key_action.utm_keyword.unique()"
   ]
  },
  {
   "cell_type": "code",
   "execution_count": 13,
   "id": "7a1ca687",
   "metadata": {},
   "outputs": [
    {
     "data": {
      "text/plain": [
       "array([nan, 'iOS', 'Android', 'Windows', 'Macintosh', 'Linux',\n",
       "       '(not set)', 'BlackBerry', 'Chrome OS', 'Samsung', 'Tizen',\n",
       "       'Windows Phone', 'Nokia', 'Firefox OS'], dtype=object)"
      ]
     },
     "execution_count": 13,
     "metadata": {},
     "output_type": "execute_result"
    }
   ],
   "source": [
    "df_key_action.device_os.unique()"
   ]
  },
  {
   "cell_type": "code",
   "execution_count": 14,
   "id": "15f504f0",
   "metadata": {},
   "outputs": [
    {
     "data": {
      "text/plain": [
       "array([nan, 'Samsung', 'ZTE', 'Apple', 'Huawei', 'Vivo', 'Infinix',\n",
       "       'Xiaomi', 'Realme', 'Motorola', 'Asus', 'Umidigi', 'Nokia',\n",
       "       '(not set)', 'Google', 'Blackview', 'Lenovo', 'OnePlus', 'Meizu',\n",
       "       'OPPO', 'Sony', 'BQ', 'LG', 'Ulefone', 'Mozilla', 'itel',\n",
       "       'Prestigio', 'Tecno', 'Alcatel', 'DOOGEE', 'BlackBerry', 'DEXP',\n",
       "       'Oukitel', 'Leagoo', 'Coolpad', 'Lava', 'HOMTOM', 'Karbonn', 'HTC',\n",
       "       'TP-Link', 'Nuu', 'AGM', 'Cubot', 'Philips', 'CAT', 'Neffos',\n",
       "       'TCL', 'Inoi', 'Sharp', 'Vernee', 'Hisense', 'Haier', 'Highscreen',\n",
       "       'LeEco', 'POCO', 'Black Fox', 'Fujitsu', 'E&L', 'LeTV', 'BLUBOO',\n",
       "       'Micromax', 'Mlais', 'Vertex', 'Komu', 'Kata', 'Wileyfox',\n",
       "       'Vsmart', 'Pantech', 'Fly', 'PPTV', 'China Phone', 'iNew',\n",
       "       'Evercoss', 'Alldocube', 'Ananda', 'Celkon', 'Mito', 'Teclast',\n",
       "       'Vestel', 'Billion', 'Tele2', 'T-Mobile', 'Yota Devices', 'Qbex',\n",
       "       'Acer', 'Guophone', 'Chuwi', 'Honor', 'Dynamic', 'General Mobile',\n",
       "       'NOA', 'MLS', 'Digma', 'Ken Xin Da', 'Orbic', 'Jiake', 'Ark',\n",
       "       'Gionee', 'Symphony', 'InnJoo', 'QMobile', 'Gome', 'Artel',\n",
       "       'Archos', 'UMI', 'RED', 'teXet', 'Smartisan', 'MTC', 'Wigor',\n",
       "       'Gigaset', 'MediaTek', 'myPhone', 'Kingplay', 'Nomu', 'KingSing',\n",
       "       'Oysters', 'ZOJI', 'Land Rover', 'Panasonic', 'SonyEricsson',\n",
       "       'Advan', 'BLU', 'Kyocera', 'Elephone', 'Corn', 'Unihertz',\n",
       "       'Amazon', 'INUI', 'Wiko', 'Walton', 'Essential', 'Poptel', 'Dell',\n",
       "       'Fero', 'ThL', 'Winnovo', 'Flexymove', 'Xiaolajiao', 'Condor',\n",
       "       'Opera', 'InFocus', 'Wieppo', 'AT&T', 'Mobiistar', 'SenseIT',\n",
       "       'H96', 'Tanix', 'Verizon', 'A1', 'Iris', 'Microsoft', 'How',\n",
       "       'Gretel', 'Wexler', 'Dragon Touch', 'LTC', 'China Mobile',\n",
       "       'Leegoog', 'Jiayu', 'Explay', 'UGOOS', 'Beelink', 'RCA', 'Irbis',\n",
       "       'Nomi', 'Evertek', 'Yuntab', 'Flylion', 'MXQ', 'Cube', 'Digiland',\n",
       "       'Smartfren', 'FREETEL', 'TurboPad', 'Ellipsis', 'Tonbux', 'Geotel',\n",
       "       'Keecoo', 'Krip', 'Hafury', 'Centric', 'Dark', 'Vertu',\n",
       "       'China TVBox', 'Maze', 'Tesla', 'MTS', 'Caterpillar', 'Smarteo',\n",
       "       'Olla', 'Kenxinda', 'Honeywell', 'M-HORSE', 'Egreat', 'Maxvi',\n",
       "       'Xgody', 'Fairphone', 'Tagital', 'Vodafone', 'Razer', 'Star',\n",
       "       'Sonim', 'Motive', 'Wings Mobile', 'Itoos'], dtype=object)"
      ]
     },
     "execution_count": 14,
     "metadata": {},
     "output_type": "execute_result"
    }
   ],
   "source": [
    "df_key_action.device_brand.unique()"
   ]
  },
  {
   "cell_type": "code",
   "execution_count": 15,
   "id": "29226ee9",
   "metadata": {},
   "outputs": [
    {
     "data": {
      "text/plain": [
       "array(['JNHcPlZPxEMWDnRiyoBf', nan, 'vCIpmpaGBnIQhyYNkXqp',\n",
       "       'PkybGvWbaqORmxjNunqZ', 'vIKILzdGQEEbEpgPefxF',\n",
       "       'yYdBRbPmBMUZHXwqGxNx', 'LLfCasrxQzJIyuldcuWy',\n",
       "       'xhoenQgDQsgfEPYNPwKO', 'SOkCdPxfUcZUzzOdgGES',\n",
       "       'WYLajZgbUhGimwBKDZUH', 'qzZQWKnVJAthVIgtLeuA',\n",
       "       'aYAcKhelKzYpXrRYknSP', 'guyNoEvzgofQvvwExGOq',\n",
       "       'AdeErYgVTbRcAWtHrMHq', 'tCLxWkPNVjjdHjETjiXL',\n",
       "       'nNqUcgFgcqQbTVSvgaHr', 'TuyPWsGQruPMpKvRxeBF',\n",
       "       'UxrnyMlRBSOhOjytXnMG', 'XSkXBCPfnJjvxbfeewtd',\n",
       "       'qukbsiXCRCiIMciUjStT', 'qhEmhjPXvwgEHdBikgEQ',\n",
       "       'DZYjhfIUfdqhfuTNUmjn', 'dUuXlWzvmhDSyclWRhNP',\n",
       "       'NNFDaOyxNbRfjYvClLnM', 'NUkWLMZGFsiVUNEECwyd',\n",
       "       'eOWmIGTKVDPewucDtZXG', 'LcGIUNPUAmXtQJaDfFBR',\n",
       "       'nsxJgFVqhmchGMaUusie', 'sYzBROYhjSDbFZCpzGyf',\n",
       "       'LBoFGHDbSeBOgvTnNlmS', 'XKsYZiUFcdkUXQpoLKyS',\n",
       "       'ailGqjxuJsYcAqCUFSXX', 'eEkLatVAYTkibdzPIyDi',\n",
       "       'ESUnXCsdWADovskBLvBO', 'EteMoEECGsaJeMnuvAZD',\n",
       "       'dlwYatgsQMvLsNApVgcw', 'iyesFzGNBbKbSesPOuQt',\n",
       "       'fxKLUhFToKQtGIyvjZXQ', 'rqvMZiqGRTZpxvRSUTzX',\n",
       "       'lXYxbSFluucyYXDQeIHX', 'JOEvyCPYuxSjvEyTgxpg',\n",
       "       'IyvBPOpVqcFCBjbgvbvx', 'AREbWGOhRGJXAffGqZTc',\n",
       "       'FkiRXDLOWtzVfvhEkhNo', 'yEzOkUNmavmsRTXaISLf',\n",
       "       'uovjRGXgBwVqoPWweONb', 'sMBIidTLSrYkjsCEvwht',\n",
       "       'BdalQBXFeDGQTswaQtOL', 'NOBKLgtuvqYWkXQHeYWM',\n",
       "       'twlfGCnyRPFtCeUKaust', 'ODLcVlzKCdodjHQNkIoL',\n",
       "       'MGmjaIrUtTBPOkAewtqx', 'WAeycgIqKXoOMXPzDUDX',\n",
       "       'PNELKBqPSVpuqhxbsZRB', 'GaKENkrnDlLzOgREieaI',\n",
       "       'YTDFqIabKsQVGozQYoPf', 'FXpnPQVvfePoCAKRMpRV',\n",
       "       'AbzcnvSMiZVQpjoceeKU', 'CELPiwmqhzgpnBWIDdiU',\n",
       "       'lmQsJKUWEVpVIvrhMXrm', 'xnyHaukLtAvgViiZSyBC',\n",
       "       'bIMfYqjEamEBPlExMjrZ', 'zpkCOCjptAAOxrlaKYsq',\n",
       "       'WbmadpYgwtVCcAwGJoXb', 'VcJKoPReESIKBdsXSmEi',\n",
       "       'KyMReDIldRzztqfDbJqp', 'NhvfEqcSTGEZKxxvUZlj',\n",
       "       'SAVVWaMghGnnvPOqMOIt', 'zEHnFIjqNyjvDvXKeMqx',\n",
       "       'vilbbyUvEWbiJvxXpaNN', 'GpVVpqYEqQSmYZrOPfSZ',\n",
       "       'OJiWyBKOyDITzXCZRSMH', 'AIONnJpjXjEluFHEjOyg',\n",
       "       'LneEZMBzQifgNGkbGWMt', 'jpZoxCaowxXvglZVUJyq',\n",
       "       'htRZUQDANvNrHaxZjsjz', 'wyGnhqrmQWmiuxOXwecV',\n",
       "       'ZbhjTfTaZOUpHAHHpvsP', 'ptYJgYxtYQLiZcgpjmXe',\n",
       "       'qalfRbxdosSpdWRPPVpn', 'LxluDbGsLnaemhTtGuvB',\n",
       "       'CxCBGzPzbDmiZjhHYhSs', 'IwBedorwDIzxDRIZUTNo',\n",
       "       'xZYEHLyYdGXkJENJpTtu', 'QEPLWgIvqPEGXcwBrsFw',\n",
       "       'nVzhCFmVaYpYhZVYHRhn', 'KkmURVtLRkaVcbcQEdxf',\n",
       "       'lbhUYwMzoYJqJaUaTDba', 'qdjbECsJcqhNsQIuskjd',\n",
       "       'XVKNbZXFFeCXocbAHwpS', 'sDHhLoedJZYxlBhsXywf',\n",
       "       'fYPNbSfburxwSPRPADlN', 'ZKlsrASsGaoEHfwkdKjL',\n",
       "       'togKdkbomlWcHNkZFveU', 'sRRLRHRfuQuCFolmQJrp',\n",
       "       'vbzpJSRWauYxaFMVEbfb', 'jGIBHItAWSMJqMByEHbB',\n",
       "       'qyjjbYxxQSASplFvzAmT', 'vVNkKrQAgRGFuwKyFazn',\n",
       "       'WflCDYRNXOTCqRqynqbH', 'PRXiQFoujNLNNkgZGmhg',\n",
       "       'HhkEQvDgekUQWMWUpfqW', 'DaehHXyBdjcdSRnPiAQn',\n",
       "       'imVqaQNUOBSidkTeZIuJ', 'WvCMRUAbanZQkQfWaSEa',\n",
       "       'nXyOBtEiCStSWKCRhcaM', 'SitoRrEOjouuWzzGooUa',\n",
       "       'qMvKVRkKgfEwmAJomJUe', 'XbtmmaHKtYVDgWTmkqPB',\n",
       "       'xLqUcIHZLQWTXrgoxpZY', 'TbRYODQKoEeDtSgVDXSU',\n",
       "       'tMYuXBrszdSagPhytmcp', 'QCjbxkecYPvHpsJxBXej',\n",
       "       'NZHhdfPwrohBtSwjQjtE', 'FMfJSXRrduQQJgmeYgdG',\n",
       "       'vqphquiMFsuWRdetWcjn', 'sDWYAbLNiGZVxGBDdTxc',\n",
       "       'bOQwsecsGWEGaGQIaBDu', 'kLQDjbTrexjKfprxZDyH',\n",
       "       'FOpwpdsyixiqHvfVmkRD', 'ZIMljraejFHmkkHvoNxk',\n",
       "       'TGEEFuUxpSnXADfXkUsH', 'WixnCUNMqoYWPvpUZdfu',\n",
       "       'NacUSAyeXYJDflPqmJGg', 'BAPjRoSMBzueRDVKzGzo',\n",
       "       'CEcBzwVQEErfHZenOWkk', 'oJivRDNIrrOckRBIKOtG',\n",
       "       'LAoDnzvTFLNWMTAhqJjV', 'VwZeVfTHJsKOHQpsujFe',\n",
       "       'lBvcHmZkKpwCXdgWSQYO', 'QNIWmMbsaNodwlAKDIUB',\n",
       "       'XcjjlqOiIMCDviWiXCQp', 'OCpaogbJxWDpWXDqfzPq',\n",
       "       'GyxYpYhQwOKlCntiPTSL', 'ywScCjfXuJyLkJMzfjEB',\n",
       "       'MAmrReLMhdunblCfxPot', 'xKBQVMarlpBCWzZFLwyP',\n",
       "       'uTIlZZcOdcHPAJdtMFlA', 'jydEWYUtqCvdQucWTOqa',\n",
       "       'vhVTQFAHzzstHBwdbSyd', 'xlrxvewIthVdRefMQCED',\n",
       "       'lzjMeWRkEeeOMBtHPYLZ', 'jMNfDMEvJFVnXWOpECtJ',\n",
       "       'cwJiQIYIVtjAceFuhkSu', 'ePOwRDMsDnhYErGgxfUz',\n",
       "       'fDLlAcSmythWSCVMvqvL', 'AByCsfZNGxnFrQkYzVAq',\n",
       "       'kXEmQZZjuFMolpEHarqs', 'tNgGqhvXqznhoblxfrZf',\n",
       "       'nSnusQfrtOmmGJFrHBZf', 'vnjTuAUpYEAOXOZgIlYd',\n",
       "       'xkJsGXLqyYzSpiVklGLY', 'tNrhJmDqMWHJJeiSINtD',\n",
       "       'KdXimVMeVmlTGDTiqdWD', 'FZDiYHGNmOfHRZetNrbJ',\n",
       "       'jWlJHJbqZZNvVavsuBiF', 'RTgIFjZQRzIreSQFEzNr',\n",
       "       'LIWKeifdTCbuNeniIUqm', 'dNvrzljyREXbbCiEgBuL',\n",
       "       'hrqYkXkJsxqBbbPugYJm', 'uybLnTwkttHEjPnVuTWA',\n",
       "       'qtlhXlXkymnQexupXRmp', 'kZBJHrVaekBwnsMoBrtF',\n",
       "       'yLAliecOCCBSROhDQUUQ', 'YGYMDHtQgUvxgMZvXaZM',\n",
       "       'MObjlMmvbpXSMcuLcoAX', 'JJRVNKFvKSInZxhrcjHK',\n",
       "       'eCPVFTOzrcBYtbtWCUpF', 'kaaekPgmOvwMQoAiAzaV',\n",
       "       'NAavUjddfjPoZBesRmjg', 'WaWpHWszYFymgCSbpGVL',\n",
       "       'gPinzYOcsxiWLoYRKIhm', 'tqJTxeouzObqpnebzAbW',\n",
       "       'YOrIewOuiNwUyeWViYQg', 'JKvVAMEfeoNMSMFzAAfE',\n",
       "       'ZLEJlZVJYwKrZZEnUAbh', 'FNSBWzZNPqRWMLiASvpg',\n",
       "       'BSqrajWTCvRgNgRPBOjS', 'hCqpXATBKntpCwSpAnmQ',\n",
       "       'RRnsPbKLniHoYWgauQBs', 'qVMaPuMKrfaOOChIhIJl',\n",
       "       'flODqtPxdAuXewIUDGNw', 'SlNhGpjMhrdNXGxbGvDU',\n",
       "       'FsyvyvqcdOnQCoOklwfT', 'NvrpWDacIyElrPiTLtjd',\n",
       "       'ghufNFaaSqCETrIZcgal', 'WbXQsVOKLOcJrHikuQTZ',\n",
       "       'FjlZmWGaVXEQeNgfrPKY', 'NnaLweGiAhdtkuktFipk',\n",
       "       'OmCxvySbGRRBWURUORal', 'QXCBxPuOCSEEHrqrweFV',\n",
       "       'mDWzQRWNKUyAhCmZhFwU', 'yamIVOAdSsUQmbnrqsbR',\n",
       "       'HYwfQOXoovXynCsiUCVd', 'WyligyAVjsWBDjaYTidY',\n",
       "       'fqpBYBNvwwykPaIIMXFK', 'SuiEkeErGIUWseOTiOJD',\n",
       "       'qANNyMNIkJbMgmEaXBSZ', 'YsLTNuzSAfbYGSpWDNpf',\n",
       "       'SzgcHjpJbRKTtdJQNLzV', 'qFcyispArlKUQmFENgzo',\n",
       "       'UkMhhhbZmYgIctIeIFcd', 'TgZzBQZcuXJiamjvEtZk',\n",
       "       'YuRDmQzmilxiPLscJzKd', 'QjKPYbVQrUvYVYVhWTUK',\n",
       "       'UGlXItXGltYEohQihUoy', 'lEFnOuLoMuzlMIaNJFmZ',\n",
       "       'zOhxgbzQHTOqoCxmnfcl', 'LrfKeexYNjGjsqQVSCdi',\n",
       "       'tIlUelvijjLorpwpkmAp', 'IAqWuWhXZIfXqjKPNTbC',\n",
       "       'QccYUpzJHdpDeTampwlw', 'TxYGPZoJvwkuNUkpHgpP',\n",
       "       'GVUsmTlgLwSaIkbKDGtP', 'yiPBOQzFLDZgQCBuxtFQ',\n",
       "       'WhaUakldaAmpLumfaADO', 'upeKjhDnBgHIXerjBYkf',\n",
       "       'hCthNSAcUQPddgrDnIUR', 'OncUDWhUifKOHWzsLyvL',\n",
       "       'gyPuuTtEYyypfMqoeYjP', 'yXzSAJWSuRbYeLFyMVFl',\n",
       "       'JkRvsVKcOIhdVKraPfAE', 'dwisrVkIjMxjjbDpdtJf',\n",
       "       'CAfsnZSlZKGkioFZSiDh', 'nLphJBcyVYYXooJVlUxu',\n",
       "       'vtzwIaUpUVwMtUespYYq', 'fiImkyBmzQSeAeQEVCDZ',\n",
       "       'cQRpDybanXRyHUvzJmgo', 'ryswqHdLvbezpDLjokYF',\n",
       "       'AgZzqifnWGueJeQElher', 'LmdNpHjoHOGKumFOLnlV',\n",
       "       'oAsSPBTisuaTtTIyrxtp', 'qHPyQVqWZtIwxZvzhkMv',\n",
       "       'JGyGaSBfxDfwypydkjNf', 'fbySNkOYEQozwDJXwjPd',\n",
       "       'uUDFLZnWKzkthhRGUTvb', 'xkqxiIGnupWDsqfWaPlQ',\n",
       "       'sRDBtYhZktEwHawjPKSb', 'TqknwcPCMDiGGlqUtATP',\n",
       "       'JgmeMvxiYyrYlmqauiSv', 'UlnjtKcqrdcEugYBRopz',\n",
       "       'dmtLApIpqliFvKLXNeke', 'tEGLTVxXuPlivLGjSzPE',\n",
       "       'xFpdNkjtVhPSQMwCKxqc', 'YQdZdtbEmxfeXWbRMmXB',\n",
       "       'PlanrlymnpCeYvUrUTVJ', 'gQEnaeQmOHisHSTEyzhp',\n",
       "       'nRwyTPPOfIVNhlkLJjnF', 'vxMugcyrQNIxwvOkqILt',\n",
       "       'SCvdfXhWYVJKqlcdYWpY', 'hShiaOumDHIRoHzTdJhP',\n",
       "       'rcPTSYUkeyIdANHAzyqt', 'FTbuAcijicBuwxycfGPB',\n",
       "       'peOlKhfNSjbGkabUDWIm', 'uBUwgolUDgFUqOyprsyw',\n",
       "       'ZHiOcPpMzDHlwHEiAjCB', 'VYpyMPvKIXPsCwSjJWPe',\n",
       "       'iFkBdFFnWCaZkKWtuXJi', 'izFaiVJBdrbEvBjAmFlH',\n",
       "       'ZPBXNhWCgHfOdBZmoABG', 'QMmfrhgnqNOwSTPaqlLK',\n",
       "       'zjrfBVIiQQBGguNcgGog', 'VlbHDutfcfYJARFNICFX',\n",
       "       'ypltawWxZOqhKBKanmJz', 'GgVzeOaUxvfGSqjuBLwN',\n",
       "       'ESMghHbAVcqVsGPVpygd', 'FvtsWdHfGtOlguWeXGof',\n",
       "       'EsbpyHMkFkavykEeYhch', 'ArVPqsCZnftFJCpywDAU',\n",
       "       'fBRoTJlPSQvdkRoAJkVN', 'JqrDmBADqCajaFvukKzI',\n",
       "       'cccMlyVfjXspfaCSrMsO'], dtype=object)"
      ]
     },
     "execution_count": 15,
     "metadata": {},
     "output_type": "execute_result"
    }
   ],
   "source": [
    "df_key_action.utm_adcontent.unique()"
   ]
  },
  {
   "cell_type": "code",
   "execution_count": 16,
   "id": "b28bc5b3",
   "metadata": {},
   "outputs": [
    {
     "data": {
      "text/plain": [
       "array(['LTuZkdKfxRGVceoWkVyg', 'bJJuEXRheRIxXEaYIXqM',\n",
       "       'gecBYcKZCPMcVYdSSzKP', 'LEoPHuyFvzoNfnzGgfcd',\n",
       "       'LwJZxKuWmvOhPsaCeRjG', nan, 'FTjNLDyTrXaWYgZymFkV',\n",
       "       'QEejXfOCtOMFLZqIPApp', 'rmVZWYFMcnGputYDEnAW',\n",
       "       'WlbWUObZWvsimzdFdLYw', 'PXQWdUxeUoXfoKzTBGpY',\n",
       "       'okTXSMadDkjvntEHzIjp', 'XwZreaZvgptCcKQsSTmK',\n",
       "       'GWZGdHKPgmZPNPwkJshU', 'bxOTvPtyGSdUrbwoXCPO',\n",
       "       'SgIUDYUKnyWHVowUOqid', 'zxoiLxhuSIFrCeTLQVWZ',\n",
       "       'QdLfySaGXolfTBSNVfHn', 'JajANoFxoqXfKRNBUhzx',\n",
       "       'sbJRYgVfvcnqKJNDDYIr', 'kwdmElMUPDZaLQdgjcsI',\n",
       "       'sbBROyEMXrSwnajIqxMA', 'IKQsApKuPmZqqmhieEgf',\n",
       "       'UKNBOHebRIIsQRsjNKay', 'quxdQHtdlpFZfBZSiXFZ',\n",
       "       'gVwpGdJDpteNmFIatPTG', 'MZTDkjezphpnUHlvfRck',\n",
       "       'LUlvACDKkkOkiSuiwaBs', 'sTkjcuMUikyInvCPLqNT',\n",
       "       'IZEXUFLARCUMynmHNBGo', 'nRMQduiDPkgzAtCtRRVx',\n",
       "       'RoDitORHdzGfGhNCyEMy', 'TmThBvoCcwkCZZUWACYq',\n",
       "       'WiILFRDQbcHDHNvHzGpX', 'YCKgTzTDywjcWyQudGch',\n",
       "       'kVOrIKZFrEYGvixPclal', 'nSReTmyFtbSjlPrTKoaX',\n",
       "       'DnEUulZAecfGPvdtZBYS', 'XHNUiSKKGTEpSAlaVMFQ',\n",
       "       'hkvDVxqLOzGjGaoNiNzN', 'jqlUOdZBNZYfInQVcZlS',\n",
       "       'foFTSdUvNqqkPzZvgiqt', 'jfLxUKobDdJlutbwyjaU',\n",
       "       'VBmazutCflYumtDHrQYe', 'NPcEIgnbIECWdLNSGoam',\n",
       "       'AqudXfUnmXWSDWVGYaXr', 'tnAqgCNATsNXcJwptHrh',\n",
       "       'HEimDfYZIzuQXDZAAcEW', 'eimRuUrNhZLAYcwRrNXu',\n",
       "       'bgTYkDHjOsJzMUtoGhiQ', 'qUcotcWimEOQiboVPcCx',\n",
       "       'wpmatvDuiMutnvmNVPJo', 'ascPqxFuFewWWZSVMpkh',\n",
       "       'emlBaVkgLVRqbEVOSSXt', 'vXsFkagGabkcWKlgLzSg',\n",
       "       'vFcAhRxLfOWKhvxjELkx', 'pQhDyEDSvgnXNvMXPAhy',\n",
       "       'wWtqUernqIfFLJdJysKt', 'UvuMsOSDBWQGOIbDbXfV',\n",
       "       'BVKxkCOHKUOvkpbrLMgZ', 'nGFPxtyrBsOYBtJhrWEk',\n",
       "       'PRXiQFoujNLNNkgZGmhg', 'KgicpPxiEQfzPlPwQZJq',\n",
       "       'MmyPhaRZgQtGHEnQbdUx', 'vRLTQQKAsFQMxbcHGPhu',\n",
       "       'GboXzNKRyCWKEtblNdau', 'ngkgBNjlzLYBofkljaBo',\n",
       "       'TIRYvHSoLonAvRZefPmz', 'MXqmDyetMTICSSitTjWV',\n",
       "       'pPhTYiQubZFNCSnIbPJs', 'izpGVnqOrUbTVctFBiaU',\n",
       "       'QejVLgNgzFMqjZPsnfxa', 'TzXEvSoFiirteePaCzeY',\n",
       "       'NJzEnvxGTeAoWtXraOMM', 'hBWmNYrvNzCBHuiQQxfV',\n",
       "       'mSVMBvlHFgftJaQAZEdp', 'EvhrtRzIJnQYHziPiLzV',\n",
       "       'CdkIkBrvEVomSgvHzYvj', 'NSbcaLfXREiOVOXTmbnD',\n",
       "       'LPiQJDVEpMDecOsQvTTl', 'akoPqAqaJrLGbjrrIVPH',\n",
       "       'maiZOsuEAMdeoRVsYoFk', 'VYDithpzdwvzdnmGEkfp',\n",
       "       'PTQlxxEuqjyfVHcNKQQW', 'UjApcvnaHtkydRkrLYuv',\n",
       "       'hyNLyXfbJfGYiUJTEZnz', 'ESphyUeLTPINiYALHWrO',\n",
       "       'tVtbIKrPSOvrXLCznVVe', 'vNNYHvZtTVtJICHsjBBL',\n",
       "       'qTERPbkOaRvjtQXXEwdb', 'IWLzPAfDfwypTzMxtiQE',\n",
       "       'hIlpdXTVGwzYWIOqvhtN', 'FNCczGzZUTzZVolDcPyC',\n",
       "       'BKeImrJuRDZcHiSSTdzm', 'aLJBnHfwxXTnAjVTpHFh',\n",
       "       'aCaBoYaQJPVffhjBQnut', 'WjjvSVHOFOxHwlNJQcyk',\n",
       "       'vVspBWANjeNCTQJpJJeE', 'jpjTolpOezlrOPAunDZi',\n",
       "       'LJZfurSmjxvomWxSCcZR', 'zmnpxOKDENholtspXiGy',\n",
       "       'YDIkQmcjRkpdxGbLLtNN', 'jvsVVQVKRfBIqBDBuCkq',\n",
       "       'JwYIveaHVpeeRZloQCfF', 'iYBYglGljMDRQyqHRiPH',\n",
       "       'NCOBaqbWTRpdTXezdNNg', 'poPacoEcpwIansoSINie',\n",
       "       'UEtHtwAEXfprDUERwqqj', 'yxtFdhyijaALzWWYtzHE',\n",
       "       'TBuBeLHkANSfemZzCoVD', 'QKpFeggpjKAvhtjHKHZC',\n",
       "       'gkrlxvSUaPCJLtsTAaHI', 'DsqwamlMwRgMTyspCjFR',\n",
       "       'WxlboVseFpLmzsoVKkkQ', 'dZqEgyoxhtbeLFMtnnVR',\n",
       "       'KXRJMPPRGoMIgkFfvZpk', 'ggnicnIiTUFLsyaNdcJJ',\n",
       "       'TmLcOgercnkJQrPmRxsU', 'zMFmwQTCTSjJqblNXbOE',\n",
       "       'MvfHsxITijuriZxsqZqt', 'HKUDoNXhPeIzUdnZpRdl',\n",
       "       'EiQppLFrUZrUsjXVulLg', 'TxKUcPpthBDPieTGmVhx',\n",
       "       'fJCYsujgSxIHFbOmgDdN', 'DXVdsSTQphSYVmRchYKt',\n",
       "       'zPJpddwzkFqLMSYgtDqy', 'XGYOaJEasWTwAKNdCGVX',\n",
       "       'yCnTwlCLkqZHwAglrEll', 'mIKayglJaKQZvgdtLfqT',\n",
       "       'isYoUwVPnRHJczHiHQbB', 'CtcATIzjbQqVOMPZfiQY',\n",
       "       'qjmBmKWCivQiONdxBwQN', 'jXKhPqSdMbcUvJsaNCVA',\n",
       "       'labpJCBQmsoWLfQvNTak', 'rKHSSStqLNTbdGVZMwfG',\n",
       "       'MWLEpQPyjGkjHseVyeyQ', 'NLWjXuYiXlKrFJfSWfKt',\n",
       "       'RwJRitibjRveidvwKiLL', 'WJUKqfeOrjXIOHjgcgdR',\n",
       "       'KTPxKBplKCicmchTWoPH', 'ukwEyFczbqbKStCfJGsY',\n",
       "       'mrrsABvDmholqItQOtcL', 'agnCWMgbwJZgTVVsuCLg',\n",
       "       'kzqtiVtETHDUrZfgudlz', 'WfdbkkrpQJoKZZNMVapQ',\n",
       "       'PuSsXRwSpZeHuyXoHqhm', 'FhMPkFqqAboknIypeYDz',\n",
       "       'ZWwGecvpGmryAHpoosvq', 'xGRbRuBkKsQPkKARPeOn',\n",
       "       'hJvOVTMdhkqIBqjVrsOL', 'wWzYQhgKgKSglyMXtXFv',\n",
       "       'ULAUPJGgNiZYQgwZwZGR', 'zfwIehuEfWYdYrEZgRLo',\n",
       "       'MQvSjpHGoGjbcBjfnLLm', 'xEbpvlxtkygYVvQKMatl',\n",
       "       'hIquLOydEXoeZjuqwKvP', 'RxecHElWobBxIeAkqFXV',\n",
       "       'muXSoqIAVnfVKUwxNbDi', 'dMIPlIFgKzafYgowsqtp',\n",
       "       'uZlTllnydJIwxWaShyFN', 'RzLAoRYmCtVATSoPvWAQ',\n",
       "       'BtHktUgMgEVIjKWdCrLZ', 'iNaIAFVuZgYukekFQQbX',\n",
       "       'KUROllwAYyecYcjFOgAi', 'KiQeSeROtpITKBTCBZpa',\n",
       "       'cccMlyVfjXspfaCSrMsO', 'NPCqHqKASZefKtNiMiwY',\n",
       "       'BAZCuyHZnaPrMGOMrcCQ', 'DZlFqIVHUBIDaQoarvIZ',\n",
       "       'DBLWVjTjVZuzWYWTaDfZ', 'YHobSrmCVImJLFtqxaTd',\n",
       "       'ydXTgkwKyFWEAJoahduP', 'UjNgcKjhqljTjpKnzEsH',\n",
       "       'hnthrvdBdqpbZrLTWFSs', 'REOxIXhzBcWRzAVjELgu',\n",
       "       'IRGUHqwEMepMjgCYBVRn', 'vDDUOyLFNAxxxTqPIvmu',\n",
       "       'kGhkeERWmeLqLmjmoxHo', 'rcPTSYUkeyIdANHAzyqt',\n",
       "       'VzoFtfHotWfgMqOvhhpk', 'yEzOkUNmavmsRTXaISLf',\n",
       "       'vjIFJEOjxEWepttdwCpg', 'ISrKoXQCxqqYvAZICvjs',\n",
       "       'aPqwsNrUDOqqlOPbgStP', 'EcEOnwFpCaiUbrbFLICY',\n",
       "       'yfjcpPqMeNcSIiswGTeQ', 'klTrhUaShgnjIbaPmqjc',\n",
       "       'CXgqTLNTvvxWUWoOfjNF', 'cKnGYQSWZGzyTNPbbUhM',\n",
       "       'wpMKhptHblpEnLMZvGir', 'GbuDbHhyctlqNtNRnebC',\n",
       "       'lDZWtjMawBaqetnVFboy', 'gaFBXpMUrvHAilRkjPSS',\n",
       "       'qwXNqUOhqrtaEJcARSvk', 'KAcUKGokhYlMktQhYKHx',\n",
       "       'RmEBuqrriAfAVsLQQmhk', 'UUEGZcMsxvxRpygjNVWe',\n",
       "       'MXDkcHqcdXtujYTeSiOo', 'KCcrgoFqYxCpSjdRyJjZ',\n",
       "       'viJRyeJfSPaqDtxzXuOp', 'SoCnOWJkUDarGowlGDnC',\n",
       "       'WZxCpdfLzrgIfGUqxGpE', 'HFaOtpcChAlcMuxEAlpu',\n",
       "       'NTQAiqAhSTbkRRmxVKoQ', 'BrdyisDlGWoQTEpGunCI',\n",
       "       'nmfptFmSirEqNzAzqbXA', 'yNZQMmUjUNvdFfSdNFRW',\n",
       "       'CTxTNVPeWxOUJWpkjRjV', 'qpUkxmFZPYAfFrViyYab',\n",
       "       'OztZDxVyKavDuqIwuDEW', 'FybWmKxPurtzLVenltZy',\n",
       "       'REDghzZLrGbRqqQpScpY', 'ssImHEVdprbqxSDUnKEZ',\n",
       "       'phrsMxwuvNvYsPYNbKkL', 'vgnFYqlaqdoLREHruWar',\n",
       "       'MBHgRPNeTcONuVFFXgmz', 'vsIeXLhfMWBRXWnTmgPr',\n",
       "       'hSkxjvIamxEAKPuQRbPZ', 'deUhHtuyPVpBrqXAuTJK',\n",
       "       'fDLlAcSmythWSCVMvqvL', 'GYkgJdhSxirUFPHFiYSe',\n",
       "       'HtyIDWOBgqXsGucSiffW', 'DWdObWJnYkxegWsWkVuy',\n",
       "       'YpBKcihLLfFjWuxOLfvW', 'kPFxaNFzjAAXpTmoDqwY',\n",
       "       'LliRUcMuIXWdLyWHGyiO', 'OrvHyYGicWVbFQAOAErl',\n",
       "       'UrZcnCerRbiVophgfqbk', 'xhbLYKykcxmylecTsBop',\n",
       "       'VlqBmecIOXWjCWUmQkLd', 'RhRtRKaMduWUvXxkhSyj',\n",
       "       'TOSjvKcurFlcKJijjpYP', 'KGpIIoFhRfLgffkknBkK',\n",
       "       'XoTrAOMBRCYqwPhPaAug', 'iSHFQRYsNeVeKceWxpSo',\n",
       "       'exUGYSXnDUQrIBIREJPO', 'zDGMDYOBPSeVFZNNwoxT',\n",
       "       'NIgzwPqJgIRAzUyDvNQF', 'vuriSCpYEnMEbLACpaMZ',\n",
       "       'JdLDXLLzKXZlxBJrDTXh', 'zzcBKEnbRkpqxqrfLtUQ',\n",
       "       'sbYfAAzphmSQppvMthfe', 'TdiFPEJuNonAMXzGxOdj',\n",
       "       'vRnpYItqvTLeHOrhMWuq', 'qQToznZzQEwXqmrMVfCd',\n",
       "       'uHkXFqmjVyPishvUseQg', 'mpFygdnCzMsVlLWOpHBn',\n",
       "       'nnaPUJiwrEHwnRkuzmDD', 'RRQpCHVxearEpYWQPPkz',\n",
       "       'KyobiyHqbFtWswycTXJo', 'KSpBvMRGOrzuwPcKggOa',\n",
       "       'CHdbSXINvRmKaAtGIGzz', 'ZggPbXStNGQhzWMEBOLM',\n",
       "       'RTbrNgtiROQiwvJmxoMx', 'vAUKqgVpFlghMFvCyBIl',\n",
       "       'nffihnepviFqbduqvqtR', 'bPGeWWXPmJNDEUOxhfYY',\n",
       "       'RkpOyeEPgcMBSDuHLQcj', 'tlfQioxYValDMNqdTGFZ',\n",
       "       'BHcvLfOaCWvWTykYqHVe', 'GqeiAYRNSJPqyMnJQPkv',\n",
       "       'JvXenhWHxCJUrVZhrGMS', 'WYZTTdhWPjttFYmcGjBP',\n",
       "       'TOtlRhDcJiAMnHYarArU', 'UFjBFJhIpQsfVIWQKdaW',\n",
       "       'rnfmrcrPXOGNGEedbqSd', 'FTAuYVNoYYxgvKMpKSLW',\n",
       "       'pZxsQwZOmQEsKGihkkds', 'xVVRROBlkIufrdCBMTYc',\n",
       "       'zeAhgziIlupwjQfwRisw', 'iNFgfQPqHPBuvGCYtrQE',\n",
       "       'pJnsGDvdAPPSfypxXruE', 'NgvIEWbVuckjhbPiqDzr',\n",
       "       'MBGYWAQSYWUphNxTsAWD', 'iOMuvNvFqsfUXNqBuSzy',\n",
       "       'XBoxutCxHSTnvyJumCQY', 'fHHhKlkKELjsiivkpZSF',\n",
       "       'XrGPrrQSYhqXkqYYpKzD', 'bSnjzIuKqgqYvqVDKaOX',\n",
       "       'PVFXnspnruelCtUpjRiI', 'LbYgXRsCfbfDfXBVePCv',\n",
       "       'BHqsCPwtnpaQSryaVXya', 'TPmcSCdCeBenCRczRhPK',\n",
       "       'FrZxVhBshHjYZTtbPhxK', 'dIOSwfBKYOHWMhxrecPD',\n",
       "       'JXhFObdOttDFJXtNDBuH', 'mzJXHtJPIOSHoHtgezIA',\n",
       "       'QLIXctrnAHCfkfINcoBS', 'mtQufDECJCXyKwpKQPvz',\n",
       "       'sYTAOjoipTHhTMmUjbIx', 'gEydMgyogRBSsihrQQwd',\n",
       "       'zXjuoqEaPElBnwpSHMpx', 'opDQAVOMtCAjZrYyRdJb',\n",
       "       'vzVHtUqdxJZtwimyfRnw', 'UCpELiEcSpcQwocxJRuB',\n",
       "       'ZdOcFAQpRQWuFZHHkEJQ', 'zBKTCFUiXurMYBESygaA',\n",
       "       'UbQpozKfTgYxQovHjkQM', 'chmITvDSGkTMoJvvoUQz',\n",
       "       'NUYvxgBEIYqMlnpeDTIM', 'DYPQuQTZCBDnCWMJOzqR',\n",
       "       'JSpqZazJfaFgfkyRxcgv', 'DfoBrvtzFbohFKcUrmMV',\n",
       "       'gNOygIoePsujXLVGYNZi', 'qxnAydKMtMSuafVrMzdC',\n",
       "       'YDaQaUATKHxvsCBNfjwj', 'kLcjCnTSVYUxLVdvWAbF',\n",
       "       'IRKNegNgOUQLwudzMElF', 'oCqKpnSZJeYOVZTgTmKR',\n",
       "       'PKriXrefSFPLBYtCRGSE', 'vZqcBrFwxYPoYzJyhYGI',\n",
       "       'XHoTMOgwgpjFLwhdjpdo', 'QOFLjxQSwjjdcmUyBzfz',\n",
       "       'oVRrinVXnwQkBsdFlKCa', 'vbDXvNFpmAgCDpNuuaPT',\n",
       "       'DlOlXJaBJgWQVhgtCeWo', 'QzAELPgNYUjFjCPggkiD',\n",
       "       'UJEPFwUhLuXISIccsLnP', 'VfhMXDwtKbBKHfyoCvdn',\n",
       "       'cqgnjDbqrtCipVvzhxqa', 'fkhLOTqvIJxkHksTSIzX',\n",
       "       'CIAskiBSlPVrlMWbbWfu', 'xEbgdGZJlqXAaRmeJQdW',\n",
       "       'YAQGTUQbCohUIetXFGlm', 'yKnoYgLvaGltPgdqdgBO',\n",
       "       'sLQbYFRIWJPmCqXsQgTS', 'azajeHUvPOKkHBvWFbjz',\n",
       "       'eGPqcrOyAyMvXPpbVMLD', 'HMzbTCtidyLIdSFumcrH',\n",
       "       'qOAPxwpizrrMICrEYPqL', 'QhutXutiTDeqkGEUiqFI',\n",
       "       'UgWjaOmKUxPFucSbwvSq', 'CqeIpFwJscTsZoYXdHsP',\n",
       "       'IXTKLknIYjJQZcDSDKPL', 'MrKkyDxiricJGgQfpARh',\n",
       "       'qWwWPqRITbGahtXJnhQM', 'pZusNNTculJrJpXVbetv',\n",
       "       'ySpKPVDYCgmkHVSeLjnJ', 'YlsczTIyBSwTLNtuDkCd',\n",
       "       'QftOBnqPiHPTqiRZihxu', 'WUAADskMKtAjHudRNZNk',\n",
       "       'kKtSojgDlfomwthXhPjz', 'KCcEkEaKEtUilBVMoCAi',\n",
       "       'eBgdbiFvTJMytFSiMBgO', 'geDcueAOghDzHkGMmdOq',\n",
       "       'fzbotReoFzSuckjwcpCs', 'GpiDILvimvLtLBlqOeTQ',\n",
       "       'NGNkCWwKgYFmiCCeZVxg', 'niQdLVcBlNylrEuNcCYH',\n",
       "       'nrKihqcWGIzDsOqljdAv', 'DHyodCvEfFUSiyuabgaG',\n",
       "       'enrUjlPmoRCCSQCEJpCp', 'pbDudNzVMOgnBNGCXLTy',\n",
       "       'pcvPxfVFaAmhwFmvIeYd', 'zhmDvzviWNMgxXuZASKu',\n",
       "       'tWBQlsvNfHxRUjaPAfhd', 'CXUMHTKDPKDgDkGDcDjy',\n",
       "       'AdtHYglxfCpTpwZeTAuW', 'SbYAsCvXapXBOIxEKBZs',\n",
       "       'EsbMmeeLGwoYJmQRMBxd', 'eEEwicXmITPUhtBeyybE',\n",
       "       'IOQFgDqnjywyYyRldWoF', 'qPDTdivQVeflLjTYIJnG',\n",
       "       'lndNIerCYECRQvBTyTye', 'UDwbPOvNChIeCDrGWlDQ',\n",
       "       'DWLxnPuFDXvGQTIRHNMJ', 'jOKkxDtEgXaQRrvJuOBq',\n",
       "       'riZJIarZWJvhdHWdDrux', 'wiaGHeLepWDNwXuBHvDB',\n",
       "       'laztSirlGRdltnUjfBjd', 'vHbfNwUgmVpYgEczIXDW',\n",
       "       'DWvtKQncdpXXfLBjBmGj', 'cQRpDybanXRyHUvzJmgo',\n",
       "       'zFCiMWkbbAhTflrlLWnz', 'nwKBdMZKktIQFvhZwbFe',\n",
       "       'fBaFZNWyrwtUZQWItcsr', 'xKilurCKKiYaehWwdleb',\n",
       "       'XGOsamgBesNClOIokPJY', 'InOGyxvxAfYvSHCpIjJZ',\n",
       "       'dITetAFbdxWiRaArKHRu', 'twJlyhuKiWhbEOmUvhDk',\n",
       "       'ZHCJROlbqnkXTqIuVxnm', 'XzfzEBYZWgSDtJNXOadn',\n",
       "       'JkhCpeDGCtTwhwqWLywv', 'NAGIDBigiKYOOmeMVBQq',\n",
       "       'kGgpyeEtacYWhzbuuWMR', 'jUuukNIbGoOYdGYzBthG',\n",
       "       'jCIRaffxlokbeWIRXHKg', 'VbwhIlTuTQfiffXsGgWV'], dtype=object)"
      ]
     },
     "execution_count": 16,
     "metadata": {},
     "output_type": "execute_result"
    }
   ],
   "source": [
    "df_key_action.utm_campaign.unique()"
   ]
  },
  {
   "cell_type": "code",
   "execution_count": 17,
   "id": "94645f16",
   "metadata": {},
   "outputs": [
    {
     "data": {
      "text/plain": [
       "array(['bByPQxmDaMXgpHeypKSM', 'kjsLglQLzykiRbcDiGcD',\n",
       "       'ZpYIoDJMcFzVoPFsHGJL', 'MvfHsxITijuriZxsqZqt',\n",
       "       'fDLlAcSmythWSCVMvqvL', 'hTjLvqNxGggkGnxSCaTm',\n",
       "       'QxAxdyPLuQMEcrdZWdWb', 'fgymSoTvjKPEgaIJqsiH',\n",
       "       'SzZERoLMmrEUEhDaYcyN', 'vFcAhRxLfOWKhvxjELkx',\n",
       "       'jaSOmLICuBzCFqHfBdRg', 'geDcueAOghDzHkGMmdOq',\n",
       "       'BHcvLfOaCWvWTykYqHVe', 'NwLFDlNWnYxuLZEAZppl',\n",
       "       'nSReTmyFtbSjlPrTKoaX', 'aXQzDWsJuGXeBXexNHjc',\n",
       "       'eLzNJHzPelJpEyBwMrKo', 'RmEBuqrriAfAVsLQQmhk',\n",
       "       'PlbkrSYoHuZBWfYjYnfw', 'gDBGzjFKYabGgSPZvrDH',\n",
       "       'IZEXUFLARCUMynmHNBGo', 'qVXuCoVQtPxcUkAXiXBa',\n",
       "       'TxKUcPpthBDPieTGmVhx', 'GpAkIXsclxDGyILfNlrR',\n",
       "       'ISrKoXQCxqqYvAZICvjs', 'WEXkMlsnJodrzBgKJBpG',\n",
       "       'GmILPdZyuAVJCPsUBHeN', 'nrKihqcWGIzDsOqljdAv',\n",
       "       'gVRrcxiDQubJiljoTbGm', 'TTtiRKFZIaQpIWggfCoF',\n",
       "       'KgicpPxiEQfzPlPwQZJq', 'YlsczTIyBSwTLNtuDkCd',\n",
       "       'BKeImrJuRDZcHiSSTdzm', 'XiUifkjKLLnomcDRhswp',\n",
       "       'MYrKypXYDhDVwJMUhCqu', 'eimRuUrNhZLAYcwRrNXu',\n",
       "       'fbFKcMumlScApQMqFIqp', 'mfMzuDnnxZoVzgSxUxeJ',\n",
       "       'UphNUPPFIJLIZnvubKDj', 'NGNkCWwKgYFmiCCeZVxg',\n",
       "       'ghoaGAksqhKomdFrxgyJ', 'dyicZQGoeASogoSafjEh',\n",
       "       'oZCzWSykfixnjMPDNjSU', 'cAqxcRdSSFAyCPUxQHqy',\n",
       "       'klTrhUaShgnjIbaPmqjc', 'maiZOsuEAMdeoRVsYoFk',\n",
       "       'iNFgfQPqHPBuvGCYtrQE', 'ZHCJROlbqnkXTqIuVxnm',\n",
       "       'HFaOtpcChAlcMuxEAlpu', 'faqsogjxCvbseFqupueU',\n",
       "       'nmfptFmSirEqNzAzqbXA', 'GWZGdHKPgmZPNPwkJshU',\n",
       "       'zwpKjjsMoRVCdipntaHt', 'DnEUulZAecfGPvdtZBYS',\n",
       "       'bgTYkDHjOsJzMUtoGhiQ', 'wVcghiqKrWURnHCgpBAi',\n",
       "       'FTAuYVNoYYxgvKMpKSLW', 'YclHumxPxSxgzHfvCaeF',\n",
       "       'EyveFmCGCQchHbSIRpVc', 'ngkgBNjlzLYBofkljaBo',\n",
       "       'SbQJoCCWibshtEmQeuVM', 'RVKHNCFOYpjJjjAtwCgE',\n",
       "       'UbQpozKfTgYxQovHjkQM', 'ySpKPVDYCgmkHVSeLjnJ',\n",
       "       'bxOTvPtyGSdUrbwoXCPO', 'xEbgdGZJlqXAaRmeJQdW',\n",
       "       'LlBOVIARRTjfgnQNjJre', 'xQnKzPSrehWizZOmwHkM',\n",
       "       'oCqKpnSZJeYOVZTgTmKR', 'CFeqZLBNQdYHxJrTOHjY',\n",
       "       'oSQBbhIkNionRJpNbQfT', 'WeIwsqEbpZGZwhcQktNS',\n",
       "       'azajeHUvPOKkHBvWFbjz', 'NCOBaqbWTRpdTXezdNNg',\n",
       "       'vEBWkLmuIpqNdxZZdlnW', 'LpqvupgvWJUGpCaowEIy',\n",
       "       'wlyUPieAGrQNIlkbmySd', 'ArbfvYgWhqxkzywKqpQf',\n",
       "       'EvhrtRzIJnQYHziPiLzV', 'QzPMrfYhYSLYYPtPaBxI',\n",
       "       'HbolMJUevblAbkHClEQa', 'NwuIyBhuPCXhJVPLtXCC',\n",
       "       'CgsxHpdTmXHvrHqEKRxp', 'juYouSPHPfKdXivEPJjt',\n",
       "       'DlnuGwaJBHGNEKdWfOpe', 'eYRDXZIocNyHVjEHzesr',\n",
       "       'WufphiXPXHjYKWOlEjpJ', 'ULAUPJGgNiZYQgwZwZGR',\n",
       "       'dGlVSdmIlgWDyOPjfwwy', 'WiILFRDQbcHDHNvHzGpX',\n",
       "       'LigOnUObPodLDexszDtn', 'hONgZhBaHwLGhvJSefNE',\n",
       "       'hzrqPZyPrRXcOdyjRQRg', 'QYfbqJXuLdJGfOSFgZOs',\n",
       "       'MQvSjpHGoGjbcBjfnLLm', 'mNTexKeDdCADhrBgkEeA',\n",
       "       'ZSALOpDDuJdQyGxrsDWn', 'xKilurCKKiYaehWwdleb',\n",
       "       'YAQGTUQbCohUIetXFGlm', 'pvCdohkUBGPPZOsCzVAu',\n",
       "       'tzIeQUUHahhBuEkJqDVp', 'InLrxElufkSAvhfyFcOA',\n",
       "       'CXgqTLNTvvxWUWoOfjNF', 'gPinzYOcsxiWLoYRKIhm',\n",
       "       'yjIcHowrPNcMWjOzgULE', nan, 'vNNYHvZtTVtJICHsjBBL',\n",
       "       'GbuDbHhyctlqNtNRnebC', 'SHJidRpqXditMCUeEFzb',\n",
       "       'KkNQdfTjqxnSBHFFEsRG', 'NTQAiqAhSTbkRRmxVKoQ',\n",
       "       'QuIQZzbAETTwBxLvIiyY', 'QKpFeggpjKAvhtjHKHZC',\n",
       "       'DBLWVjTjVZuzWYWTaDfZ', 'eTMcXJUftGtjDdKkZmfy',\n",
       "       'IsHcZJuNYwanAAEDxuOE', 'gzgFRUOHBtcBlPPtEMNK',\n",
       "       'GkGprIZHXAKqgsyDIvMR', 'eGPqcrOyAyMvXPpbVMLD',\n",
       "       'mIKayglJaKQZvgdtLfqT', 'VYDithpzdwvzdnmGEkfp',\n",
       "       'PKriXrefSFPLBYtCRGSE', 'BTOBxRcZAuMDAGcpupRx',\n",
       "       'AHgbtEjTEsiUMJouiDYS', 'kUSlfGqiogPacOyFteie',\n",
       "       'sOTrgtUMUuYzzWBPLeFQ', 'RAeIjhqmnmNXpLaHKdgp',\n",
       "       'NJzEnvxGTeAoWtXraOMM', 'rgsINTLYFsElIlfRtNDP',\n",
       "       'ANoZJgYuPrWNkAAchryx', 'RxecHElWobBxIeAkqFXV',\n",
       "       'OtrdXnwzWFjzhNlHVLfd', 'zhqxcsahQYAzJvRzebNp',\n",
       "       'rHNgiupMNBtKyhTaWxJY', 'IRGUHqwEMepMjgCYBVRn',\n",
       "       'ysUnXJVzkMTkkmGifVJI', 'DpZgNFPlBxxSZpGFMXkk',\n",
       "       'fJCYsujgSxIHFbOmgDdN', 'zslzdtckVsyxcYqKBRRn',\n",
       "       'YDhRPNErghvKCwWcfSFO', 'deJoLIVTrEhsYKuEWqtP',\n",
       "       'lOMpyAuAISPFiAxjXIYM', 'tjKUGseGMhkLEzdCqBRx',\n",
       "       'XrGPrrQSYhqXkqYYpKzD', 'JdKLSdewxFqMMgKKiXBO',\n",
       "       'BAZCuyHZnaPrMGOMrcCQ', 'YCKgTzTDywjcWyQudGch',\n",
       "       'fcXWTQaKfxbkBkBnzLhK', 'emlBaVkgLVRqbEVOSSXt',\n",
       "       'YpBKcihLLfFjWuxOLfvW', 'yfjcpPqMeNcSIiswGTeQ',\n",
       "       'pZxsQwZOmQEsKGihkkds', 'pcvPxfVFaAmhwFmvIeYd',\n",
       "       'SgIUDYUKnyWHVowUOqid', 'tYqhoeCFFOJSIpAAMpcU',\n",
       "       'akoPqAqaJrLGbjrrIVPH', 'BqQyRtXZyotBYQPhnHTC',\n",
       "       'IEQWfmbTDVldQVpvhXpz', 'YECMcEASiXejEJmgUmEG',\n",
       "       'LkGnzVRewoaOHnMCwadT', 'FNIjOzNNxWDHGSGhdwpo',\n",
       "       'oBixMNCffOQtQcLCZfRN', 'WDnvfdpXPXTQDKYDONXx',\n",
       "       'AuJjYKxJakEqFnCmyFtz', 'LBaWJEeycBIqEqUqkoqw',\n",
       "       'woJzIcuFapkhnraMjtKA', 'HJnvbONaVHFanPpYHwts',\n",
       "       'zGUBrOvMRpLqBkJPUsYo', 'dIOSwfBKYOHWMhxrecPD',\n",
       "       'nDmmJsJyAFLtSzhkbNao', 'MBMyOAfAXcOTBxYdyuJz',\n",
       "       'YmnqPKMqodkOEiiyvBYk', 'SYQTbMrWPSQnOfTSlQxp',\n",
       "       'MlvrtLODeciGJoIzwoNf', 'fUhxIMXvMivfzvXbtxXS',\n",
       "       'DsqwamlMwRgMTyspCjFR', 'aLJBnHfwxXTnAjVTpHFh',\n",
       "       'eBckTUycdWUDbWqXENLu', 'yxJKymlSGVuKIPTxbysx',\n",
       "       'rGDSdilqpnHoxSsEYvjb', 'RYQFHbWRnjKqraTDuhGb',\n",
       "       'wpmatvDuiMutnvmNVPJo', 'opEZzhCrCCxqjKDmOcMK',\n",
       "       'TkzfDRIBKntFdWkzUePd', 'hJvOVTMdhkqIBqjVrsOL',\n",
       "       'yCnTwlCLkqZHwAglrEll', 'pczkWraIVRIheALfnmZp',\n",
       "       'hYVrCkhCPSqKBhZYhWVq', 'HVQdipMDpgJKXAzecwqn',\n",
       "       'FNCczGzZUTzZVolDcPyC', 'mtQufDECJCXyKwpKQPvz',\n",
       "       'aCaBoYaQJPVffhjBQnut', 'DfoBrvtzFbohFKcUrmMV',\n",
       "       'DnxUhHWInKVDAWzwROOC', 'xIsdBlwlnRrEDzrJcfOx',\n",
       "       'QIRMJBHwssjlXzlheRfO', 'qngiJQKcRremsAJnZbvx',\n",
       "       'COtBsnAzfZyRVtvDlhnW', 'XwZreaZvgptCcKQsSTmK',\n",
       "       'ZbcOcgPIxJThEWbhHyVc', 'KGpIIoFhRfLgffkknBkK',\n",
       "       'CqeIpFwJscTsZoYXdHsP', 'RPdScaVSDDKvfbqPGRVe',\n",
       "       'vjIFJEOjxEWepttdwCpg', 'nyJQufAIRtHFpfdZHSnK',\n",
       "       'OwOCmIeWDzEyCQjXdfQO', 'nnaPUJiwrEHwnRkuzmDD',\n",
       "       'nSwtoJNvOztCnprKMSIM', 'IFkbipeRquzIeCjUtxny',\n",
       "       'YWSizludtZnOxvXZCLip', 'WRHPhoRKhKxaenRCLBfo',\n",
       "       'jOyKGQdOxpckcWAZCnNj', 'LIWKeifdTCbuNeniIUqm',\n",
       "       'LPiQJDVEpMDecOsQvTTl', 'fRSoNoVhwXlxsbcAmZtb',\n",
       "       'ZeHvxPFwjACxsjFESmAv', 'oGgRbISqyYCoxYKjFGHD',\n",
       "       'REOxIXhzBcWRzAVjELgu', 'WZxCpdfLzrgIfGUqxGpE',\n",
       "       'LJZfurSmjxvomWxSCcZR', 'IijdaxEpmKKxJWOGIWwC',\n",
       "       'JbyYOOELEiGGRhJbXfaq', 'oetAUjPZXdyoRrCakDpG',\n",
       "       'hdfUrLAimwwBitovrFPH', 'CHdbSXINvRmKaAtGIGzz',\n",
       "       'fcwjEERKGqQLIBYNygQV', 'VCREhgqUPSUkmfOTvGiW',\n",
       "       'cnjXFDaLIoexZTiRFPQj', 'ShCnUddaAbEvEVCCZyOt',\n",
       "       'RTbrNgtiROQiwvJmxoMx', 'uqttCIyjtWRiZIgdaLzw',\n",
       "       'EiQppLFrUZrUsjXVulLg', 'JXhFObdOttDFJXtNDBuH',\n",
       "       'MSMDmOPoIWuXYqCanGOT', 'nVVduuqoxTOGBvvhENWW',\n",
       "       'ZsHOHNXkbhgIDlKNiFMf', 'GYkgJdhSxirUFPHFiYSe',\n",
       "       'hIlpdXTVGwzYWIOqvhtN', 'XzfzEBYZWgSDtJNXOadn',\n",
       "       'gSwaXkJgHiWoIntUiupK', 'HKFjmDlYppkKqsWPogJt',\n",
       "       'jCIRaffxlokbeWIRXHKg', 'vGkKzmIaNOfwjXAcmSxP',\n",
       "       'XGOsamgBesNClOIokPJY', 'xlrxvewIthVdRefMQCED',\n",
       "       'FArFiZMprRBKpQtJYEPL', 'hkvDVxqLOzGjGaoNiNzN',\n",
       "       'tasNSXvMCFllwbrJviyg', 'SHJiZmjiDXmvjHwbFkEu',\n",
       "       'cqgnjDbqrtCipVvzhxqa', 'OOVxbzAjWMBOhTQWJgLx',\n",
       "       'FTjNLDyTrXaWYgZymFkV', 'CtYDKfzJhMZZOyeUeyMX',\n",
       "       'rKHSSStqLNTbdGVZMwfG', 'bZGRDuESNKqbvzmxXlpf',\n",
       "       'qkJqOqfMTtlyzUhWxuhL', 'KoBBKFfLGZzJWZoFqBZs',\n",
       "       'MmyPhaRZgQtGHEnQbdUx', 'lndNIerCYECRQvBTyTye',\n",
       "       'LqFAuDnKaWBLMIsdIrqS', 'eKHUxnmdnfauMYTztCfy',\n",
       "       'eooqChmKKdvCvkvVEKSN', 'vMZNdWZTzqxmvcMtqFME',\n",
       "       'cdPAGAvKeBGoqAkQBuGR'], dtype=object)"
      ]
     },
     "execution_count": 17,
     "metadata": {},
     "output_type": "execute_result"
    }
   ],
   "source": [
    "df_key_action.utm_source.unique()"
   ]
  },
  {
   "cell_type": "code",
   "execution_count": 18,
   "id": "dab67f2e",
   "metadata": {},
   "outputs": [
    {
     "data": {
      "text/plain": [
       "array(['referral', 'cpc', 'banner', 'cpm', '(none)', 'stories', 'organic',\n",
       "       'email', 'push', 'blogger_channel', 'cpv', 'smartbanner', 'tg',\n",
       "       'smm', 'blogger_stories', 'clicks', 'cpa', 'blogger_header',\n",
       "       'outlook', 'app', 'post', 'sms', 'ok_smm', 'info_text',\n",
       "       'yandex_cpc', 'vk_smm', 'landing', '(not set)', 'partner', 'qr',\n",
       "       'fb_smm', 'static', 'nkp', 'cbaafe', 'web_polka', 'article',\n",
       "       'catalogue', 'main_polka', 'CPM', 'promo_sber', 'reach',\n",
       "       'google_cpc', 'users_msk', 'Sbol_catalog', 'landing_interests',\n",
       "       'link', 'desktop', 'qrcodevideo', 'sber_app', 'linktest',\n",
       "       'promo_sbol', 'tablet'], dtype=object)"
      ]
     },
     "execution_count": 18,
     "metadata": {},
     "output_type": "execute_result"
    }
   ],
   "source": [
    "df_key_action.utm_medium.unique()"
   ]
  },
  {
   "cell_type": "code",
   "execution_count": 19,
   "id": "2e4caa2c",
   "metadata": {},
   "outputs": [
    {
     "data": {
      "text/plain": [
       "array(['desktop', 'mobile', 'tablet'], dtype=object)"
      ]
     },
     "execution_count": 19,
     "metadata": {},
     "output_type": "execute_result"
    }
   ],
   "source": [
    "df_key_action.device_category.unique()"
   ]
  },
  {
   "cell_type": "code",
   "execution_count": 20,
   "id": "b9b27910",
   "metadata": {},
   "outputs": [
    {
     "data": {
      "text/plain": [
       "array(['1536x864', '320x534', '360x780', ..., '360x948', '424x988',\n",
       "       '1175x735'], dtype=object)"
      ]
     },
     "execution_count": 20,
     "metadata": {},
     "output_type": "execute_result"
    }
   ],
   "source": [
    "df_key_action.device_screen_resolution.unique()"
   ]
  },
  {
   "cell_type": "code",
   "execution_count": 21,
   "id": "beeadb8d",
   "metadata": {},
   "outputs": [
    {
     "data": {
      "text/plain": [
       "array(['Edge', 'Chrome', 'Safari', 'Opera', 'Safari (in-app)',\n",
       "       'YaBrowser', 'NetFront', 'Android Webview', 'Samsung Internet',\n",
       "       'Firefox', 'Android Browser', 'Puffin', 'MRCHROME',\n",
       "       'Mozilla Compatible Agent', '[FBAN',\n",
       "       'Instagram 208.0.0.32.135 Android', 'UC Browser', 'Mozilla',\n",
       "       'Instagram 209.0.0.21.119 Android',\n",
       "       'Instagram 212.0.0.38.119 Android', 'Android Runtime', '(not set)',\n",
       "       'Internet Explorer', 'Android', 'Opera Mini', 'com.vk.vkclient',\n",
       "       'Konqueror', 'Instagram 158.0.0.30.123 Android',\n",
       "       'Instagram 213.0.0.19.117', 'Instagram 199.0.0.27.120',\n",
       "       'Instagram 207.0.0.28.118', 'Instagram 216.1.0.21.137 Android',\n",
       "       'Instagram 216.0.0.12.135', 'Instagram 202.0.0.37.123 Android',\n",
       "       'MyApp', 'Instagram 201.0.0.23.111',\n",
       "       'Instagram 199.1.0.34.119 Android',\n",
       "       'Instagram 194.0.0.36.172 Android',\n",
       "       'Instagram 213.0.0.29.120 Android', 'Nokia501',\n",
       "       'Instagram 202.0.0.23.119', 'Coc Coc', 'Maxthon', 'helloworld',\n",
       "       'Amazon Silk', 'Instagram 192.0.0.35.123 Android',\n",
       "       'Instagram 208.0.0.26.131', 'SeaMonkey', 'Threads 202.0.0.23.119',\n",
       "       'Instagram 192.0.0.37.119', 'NokiaX2-02', 'Iron',\n",
       "       'Instagram 203.0.0.26.117', 'MT6735_TD',\n",
       "       'Instagram 206.1.0.34.121 Android', 'com.zhiliaoapp.musically'],\n",
       "      dtype=object)"
      ]
     },
     "execution_count": 21,
     "metadata": {},
     "output_type": "execute_result"
    }
   ],
   "source": [
    "df_key_action.device_browser.unique()"
   ]
  },
  {
   "cell_type": "code",
   "execution_count": 22,
   "id": "be146881",
   "metadata": {},
   "outputs": [
    {
     "data": {
      "text/plain": [
       "array(['Russia', 'Turkey', 'United States', 'Ireland', 'Israel',\n",
       "       'Germany', 'Sweden', 'Ukraine', 'Uzbekistan', 'Belarus', 'Armenia',\n",
       "       'Cyprus', 'Tajikistan', 'United Kingdom', 'Latvia', 'Kazakhstan',\n",
       "       'Spain', 'Estonia', 'Poland', 'Moldova', 'Singapore', 'Egypt',\n",
       "       'Morocco', 'Finland', '(not set)', 'Netherlands', 'France',\n",
       "       'Greece', 'Georgia', 'Azerbaijan', 'Kyrgyzstan', 'Bulgaria',\n",
       "       'China', 'India', 'Brazil', 'South Korea', 'Saudi Arabia',\n",
       "       'Turkmenistan', 'Thailand', 'Belgium', 'Maldives', 'Czechia',\n",
       "       'Italy', 'Japan', 'Seychelles', 'Albania', 'United Arab Emirates',\n",
       "       'Croatia', 'South Africa', 'Austria', 'Mexico', 'Pakistan',\n",
       "       'Serbia', 'Sri Lanka', 'Wallis & Futuna', 'Colombia', 'Indonesia',\n",
       "       'Iran', 'Syria', 'Oman', 'Norway', 'Lithuania', 'Cambodia',\n",
       "       'Canada', 'Australia', 'Palestine', 'Montenegro', 'Hungary',\n",
       "       'Iraq', 'Dominican Republic', 'Ethiopia', 'Equatorial Guinea',\n",
       "       'Afghanistan', 'Switzerland', 'Svalbard & Jan Mayen',\n",
       "       'Myanmar (Burma)', 'Nigeria', 'Slovenia', 'Bangladesh', 'Romania',\n",
       "       'Portugal', 'Argentina', 'Libya', 'Taiwan', 'Sudan',\n",
       "       'New Caledonia', 'Laos', 'Malaysia', 'Denmark', 'Algeria',\n",
       "       'Tunisia', 'Namibia', 'Chile', 'Antigua & Barbuda', 'Cuba',\n",
       "       'Vietnam', 'Slovakia', 'South Sudan', 'Venezuela', 'Iceland',\n",
       "       'Malta', 'Ecuador', 'Burkina Faso', 'Bosnia & Herzegovina',\n",
       "       'Qatar', 'Philippines', 'Uruguay', 'Mongolia', 'Luxembourg',\n",
       "       'Congo - Kinshasa', 'Mozambique', 'Guadeloupe', 'Guatemala',\n",
       "       'Kenya', 'North Macedonia', 'Uganda', 'Madagascar', 'Jordan',\n",
       "       'Zimbabwe', 'Hong Kong', 'Paraguay', 'Aruba', 'Yemen',\n",
       "       'North Korea', 'Monaco', 'Honduras', 'Faroe Islands', 'Senegal',\n",
       "       'Côte d’Ivoire', 'Cameroon', 'Mauritius', 'Sierra Leone', 'Mali',\n",
       "       'Angola', 'Andorra', 'Kuwait', 'Costa Rica', 'Guinea',\n",
       "       'New Zealand', 'Togo', 'Rwanda', 'Tanzania', 'Panama', 'Peru',\n",
       "       'Nepal', 'Congo - Brazzaville', 'Chad', 'Nicaragua', 'Barbados',\n",
       "       'Fiji', 'Gibraltar', 'Lebanon', 'Central African Republic',\n",
       "       'Niger', 'Ghana', 'Bahrain', 'French Guiana', 'Kosovo', 'Réunion',\n",
       "       'Puerto Rico', 'Somalia', 'Malawi', 'Zambia', 'Guernsey'],\n",
       "      dtype=object)"
      ]
     },
     "execution_count": 22,
     "metadata": {},
     "output_type": "execute_result"
    }
   ],
   "source": [
    "df_key_action.geo_country.unique()"
   ]
  },
  {
   "cell_type": "code",
   "execution_count": 23,
   "id": "224f2e6d",
   "metadata": {},
   "outputs": [
    {
     "data": {
      "text/plain": [
       "array(['Krasnogorsk', 'Saint Petersburg', 'Kurgan', ..., 'Baltimore',\n",
       "       'Springfield', 'Sandwich'], dtype=object)"
      ]
     },
     "execution_count": 23,
     "metadata": {},
     "output_type": "execute_result"
    }
   ],
   "source": [
    "df_key_action.geo_city.unique()"
   ]
  },
  {
   "cell_type": "markdown",
   "id": "d3d31d0e",
   "metadata": {},
   "source": [
    "После просмотра уникальных значений в колонках видно, что в них присутствуют скрытые пропуски '(none)', '(not set)'.\n",
    "Создадим функцию, чтобы посчитать количество скрытых пропусков в колонках.\n",
    "Создадим функцию для заполнения скрытых пропусков."
   ]
  },
  {
   "cell_type": "code",
   "execution_count": 24,
   "id": "50dcea4f",
   "metadata": {},
   "outputs": [],
   "source": [
    "def calculation_of_hidden_passes(df_pass):\n",
    "    for column in df_pass.columns:\n",
    "        len_pass1 = (len(df_pass[df_pass[column] == '(not set)'])/df_pass.shape[0])*100\n",
    "        len_pass2 = (len(df_pass[df_pass[column] == '(none)'])/df_pass.shape[0])*100\n",
    "        print(f'Процент скрытых пропусков (not set) в кононке {column} = {len_pass1}')\n",
    "        print(f'Процент скрытых пропусков (none) в кононке {column} = {len_pass2}')\n",
    "        \n",
    "def hidden_gaps(df_gaps):\n",
    "    list_columns = df_gaps.columns\n",
    "    for column in list_columns:\n",
    "        df_gaps.loc[df_gaps[column] == '(not set)', column] = 'other'\n",
    "        df_gaps.loc[df_gaps[column] == '(none)', column] = 'other'\n",
    "\n",
    "    return df_gaps.copy()"
   ]
  },
  {
   "cell_type": "code",
   "execution_count": 25,
   "id": "7fd413d9",
   "metadata": {},
   "outputs": [
    {
     "name": "stdout",
     "output_type": "stream",
     "text": [
      "Процент скрытых пропусков (not set) в кононке utm_source = 0.0\n",
      "Процент скрытых пропусков (none) в кононке utm_source = 0.0\n",
      "Процент скрытых пропусков (not set) в кононке utm_medium = 0.017388592652098092\n",
      "Процент скрытых пропусков (none) в кононке utm_medium = 14.599376166275183\n",
      "Процент скрытых пропусков (not set) в кононке utm_campaign = 0.0\n",
      "Процент скрытых пропусков (none) в кононке utm_campaign = 0.0\n",
      "Процент скрытых пропусков (not set) в кононке utm_adcontent = 0.0\n",
      "Процент скрытых пропусков (none) в кононке utm_adcontent = 0.0\n",
      "Процент скрытых пропусков (not set) в кононке utm_keyword = 0.0\n",
      "Процент скрытых пропусков (none) в кононке utm_keyword = 0.0\n",
      "Процент скрытых пропусков (not set) в кононке device_category = 0.0\n",
      "Процент скрытых пропусков (none) в кононке device_category = 0.0\n",
      "Процент скрытых пропусков (not set) в кононке device_os = 0.026082888978147138\n",
      "Процент скрытых пропусков (none) в кононке device_os = 0.0\n",
      "Процент скрытых пропусков (not set) в кононке device_brand = 1.0025745176641514\n",
      "Процент скрытых пропусков (none) в кононке device_brand = 0.0\n",
      "Процент скрытых пропусков (not set) в кононке device_model = 0.0\n",
      "Процент скрытых пропусков (none) в кононке device_model = 0.0\n",
      "Процент скрытых пропусков (not set) в кононке device_screen_resolution = 0.0005748295091602675\n",
      "Процент скрытых пропусков (none) в кононке device_screen_resolution = 0.0\n",
      "Процент скрытых пропусков (not set) в кононке device_browser = 0.001149659018320535\n",
      "Процент скрытых пропусков (none) в кононке device_browser = 0.0\n",
      "Процент скрытых пропусков (not set) в кононке geo_country = 0.060285244773183054\n",
      "Процент скрытых пропусков (none) в кононке geo_country = 0.0\n",
      "Процент скрытых пропусков (not set) в кононке geo_city = 4.468365335768695\n",
      "Процент скрытых пропусков (none) в кононке geo_city = 0.0\n",
      "Процент скрытых пропусков (not set) в кононке y = 0.0\n",
      "Процент скрытых пропусков (none) в кононке y = 0.0\n"
     ]
    }
   ],
   "source": [
    "calculation_of_hidden_passes(df_key_action)"
   ]
  },
  {
   "cell_type": "markdown",
   "id": "ba39203e",
   "metadata": {},
   "source": [
    "Процент скрытых пропусков в колонках незначительный, поэтому заполним все other."
   ]
  },
  {
   "cell_type": "code",
   "execution_count": 26,
   "id": "d8b2da62",
   "metadata": {},
   "outputs": [],
   "source": [
    "df_key_action = hidden_gaps(df_key_action)"
   ]
  },
  {
   "cell_type": "code",
   "execution_count": 27,
   "id": "d5492e31",
   "metadata": {},
   "outputs": [
    {
     "name": "stdout",
     "output_type": "stream",
     "text": [
      "Процент скрытых пропусков (not set) в кононке utm_source = 0.0\n",
      "Процент скрытых пропусков (none) в кононке utm_source = 0.0\n",
      "Процент скрытых пропусков (not set) в кононке utm_medium = 0.0\n",
      "Процент скрытых пропусков (none) в кононке utm_medium = 0.0\n",
      "Процент скрытых пропусков (not set) в кононке utm_campaign = 0.0\n",
      "Процент скрытых пропусков (none) в кононке utm_campaign = 0.0\n",
      "Процент скрытых пропусков (not set) в кононке utm_adcontent = 0.0\n",
      "Процент скрытых пропусков (none) в кононке utm_adcontent = 0.0\n",
      "Процент скрытых пропусков (not set) в кононке utm_keyword = 0.0\n",
      "Процент скрытых пропусков (none) в кононке utm_keyword = 0.0\n",
      "Процент скрытых пропусков (not set) в кононке device_category = 0.0\n",
      "Процент скрытых пропусков (none) в кононке device_category = 0.0\n",
      "Процент скрытых пропусков (not set) в кононке device_os = 0.0\n",
      "Процент скрытых пропусков (none) в кононке device_os = 0.0\n",
      "Процент скрытых пропусков (not set) в кононке device_brand = 0.0\n",
      "Процент скрытых пропусков (none) в кононке device_brand = 0.0\n",
      "Процент скрытых пропусков (not set) в кононке device_model = 0.0\n",
      "Процент скрытых пропусков (none) в кононке device_model = 0.0\n",
      "Процент скрытых пропусков (not set) в кононке device_screen_resolution = 0.0\n",
      "Процент скрытых пропусков (none) в кононке device_screen_resolution = 0.0\n",
      "Процент скрытых пропусков (not set) в кононке device_browser = 0.0\n",
      "Процент скрытых пропусков (none) в кононке device_browser = 0.0\n",
      "Процент скрытых пропусков (not set) в кононке geo_country = 0.0\n",
      "Процент скрытых пропусков (none) в кононке geo_country = 0.0\n",
      "Процент скрытых пропусков (not set) в кононке geo_city = 0.0\n",
      "Процент скрытых пропусков (none) в кононке geo_city = 0.0\n",
      "Процент скрытых пропусков (not set) в кононке y = 0.0\n",
      "Процент скрытых пропусков (none) в кононке y = 0.0\n"
     ]
    }
   ],
   "source": [
    "calculation_of_hidden_passes(df_key_action)"
   ]
  },
  {
   "cell_type": "markdown",
   "id": "3781566e",
   "metadata": {},
   "source": [
    "В модели будут только категориальные признаки, так как нельзя ответить на вопрос какая категория лучше или хуже (больше или <)\n",
    "Из таких признаков нельзя создать численные количественные фичи. Поэтому чем больше комбинаций категорий будет в модели, тем\n",
    "лучше, поэтому нельзя удалять строки с пропусками. Если их удалить от датасета ничего не останется.\n",
    "\n",
    "    Заполним пропуски следующим образом:\n",
    "\n",
    "    1) Фичи с количеством пропусков больше 80% подлежат удалению (device_model)\n",
    "    \n",
    "    2) Фичи с количеством пропусков < 20% подлежат заполнению модой\n",
    "    \n",
    "    3) Фичи с количеством пропусков > 20% но меньше 80% подлежат заполению other, так как заполнение модой сильно исказит df"
   ]
  },
  {
   "cell_type": "code",
   "execution_count": 28,
   "id": "c4faaf01",
   "metadata": {},
   "outputs": [],
   "source": [
    "def fill_missing_values(df_old):\n",
    "    missing_values = ((df_old.isna().sum() / len(df_old)) * 100).sort_values(ascending=False)\n",
    "    missing_values = pd.DataFrame(missing_values)  # датафрейм процент пропущенных значений для каждого признака\n",
    "    df_missing_drop = missing_values[missing_values[0] > 80]  # датафрейм признаков которые подлежат удалению\n",
    "    df_missing_mode = missing_values[\n",
    "        (missing_values[0] < 20) & (\n",
    "        (missing_values[0] > 0))]  # датафрейм признаков которые подлежат заполнению модой\n",
    "    df_missing_other = missing_values[\n",
    "        (missing_values[0] > 20) & ((missing_values[0] < 80))]  # датафрейм признаков кот.\n",
    "    # подлежат заполению other\n",
    "    missing_drop = df_missing_drop.index.to_list()\n",
    "    missing_mode = df_missing_mode.index.to_list()\n",
    "    missing_other = df_missing_other.index.to_list()\n",
    "\n",
    "    # списки колонок с пропущенными значениями\n",
    "    df_old = df_old.drop(columns=missing_drop)\n",
    "\n",
    "    for column in missing_mode:\n",
    "        df_old[column] = df_old[column].fillna(df_old[column].mode()[0])\n",
    "\n",
    "    for column in missing_other:\n",
    "        df_old[column] = df_old[column].fillna('other')\n",
    "\n",
    "    return df_old.copy()"
   ]
  },
  {
   "cell_type": "code",
   "execution_count": 29,
   "id": "af1212d2",
   "metadata": {},
   "outputs": [],
   "source": [
    "df_key_action = fill_missing_values(df_key_action)"
   ]
  },
  {
   "cell_type": "code",
   "execution_count": 30,
   "id": "69b49475",
   "metadata": {},
   "outputs": [
    {
     "name": "stdout",
     "output_type": "stream",
     "text": [
      "количество полностью заполненных объектов из всей выборки: 1391717\n",
      "процент полностью заполненных объектов из всей выборки: 100.0\n"
     ]
    }
   ],
   "source": [
    "fully_populated_values(df_key_action)"
   ]
  },
  {
   "cell_type": "code",
   "execution_count": 31,
   "id": "05d3cde2",
   "metadata": {},
   "outputs": [
    {
     "name": "stdout",
     "output_type": "stream",
     "text": [
      "Процент пропущенных значений для каждого признака: \n",
      "\n",
      "utm_source                  0.0\n",
      "utm_medium                  0.0\n",
      "utm_campaign                0.0\n",
      "utm_adcontent               0.0\n",
      "utm_keyword                 0.0\n",
      "device_category             0.0\n",
      "device_os                   0.0\n",
      "device_brand                0.0\n",
      "device_screen_resolution    0.0\n",
      "device_browser              0.0\n",
      "geo_country                 0.0\n",
      "geo_city                    0.0\n",
      "y                           0.0\n",
      "dtype: float64\n",
      "\n",
      "\n",
      "список всех признаков, в которых имеются пропущенные значения: \n",
      "\n"
     ]
    }
   ],
   "source": [
    "missing_values(df_key_action)"
   ]
  },
  {
   "cell_type": "markdown",
   "id": "257d5c98",
   "metadata": {},
   "source": [
    "### 2.2 - Format Data"
   ]
  },
  {
   "cell_type": "markdown",
   "id": "adf58820",
   "metadata": {},
   "source": [
    "Для последующего преобразования категориальных признаков необходим Dtype = object, поэтому пропускаем этот этап"
   ]
  },
  {
   "cell_type": "markdown",
   "id": "487a3bc4",
   "metadata": {},
   "source": [
    "### 2.3 - Data outliers"
   ]
  },
  {
   "cell_type": "markdown",
   "id": "d43ed244",
   "metadata": {},
   "source": [
    "В датасете присутствуют только категориальные признаки, а выбросы в данных могут быть только у количественных признаков. Пропускаем этот этап"
   ]
  },
  {
   "cell_type": "markdown",
   "id": "7fc849e0",
   "metadata": {},
   "source": [
    "## 3 - Feature engineering"
   ]
  },
  {
   "cell_type": "markdown",
   "id": "6c06d2e0",
   "metadata": {},
   "source": [
    "### 3.1 - Преобразование категориальных переменных"
   ]
  },
  {
   "cell_type": "code",
   "execution_count": 71,
   "id": "90b46980",
   "metadata": {},
   "outputs": [
    {
     "data": {
      "text/plain": [
       "utm_source                   263\n",
       "utm_medium                    51\n",
       "utm_campaign                 388\n",
       "utm_adcontent                271\n",
       "utm_keyword                 1167\n",
       "device_category                3\n",
       "device_os                     13\n",
       "device_brand                 205\n",
       "device_screen_resolution    4964\n",
       "device_browser                56\n",
       "geo_country                  164\n",
       "geo_city                    2477\n",
       "y                              2\n",
       "dtype: int64"
      ]
     },
     "execution_count": 71,
     "metadata": {},
     "output_type": "execute_result"
    }
   ],
   "source": [
    "df = df_key_action.copy()\n",
    "df.nunique()"
   ]
  },
  {
   "cell_type": "code",
   "execution_count": 72,
   "id": "0b778bbc",
   "metadata": {},
   "outputs": [
    {
     "data": {
      "text/plain": [
       "array(['Edge', 'Chrome', 'Safari', 'Opera', 'Safari (in-app)',\n",
       "       'YaBrowser', 'NetFront', 'Android Webview', 'Samsung Internet',\n",
       "       'Firefox', 'Android Browser', 'Puffin', 'MRCHROME',\n",
       "       'Mozilla Compatible Agent', '[FBAN',\n",
       "       'Instagram 208.0.0.32.135 Android', 'UC Browser', 'Mozilla',\n",
       "       'Instagram 209.0.0.21.119 Android',\n",
       "       'Instagram 212.0.0.38.119 Android', 'Android Runtime', 'other',\n",
       "       'Internet Explorer', 'Android', 'Opera Mini', 'com.vk.vkclient',\n",
       "       'Konqueror', 'Instagram 158.0.0.30.123 Android',\n",
       "       'Instagram 213.0.0.19.117', 'Instagram 199.0.0.27.120',\n",
       "       'Instagram 207.0.0.28.118', 'Instagram 216.1.0.21.137 Android',\n",
       "       'Instagram 216.0.0.12.135', 'Instagram 202.0.0.37.123 Android',\n",
       "       'MyApp', 'Instagram 201.0.0.23.111',\n",
       "       'Instagram 199.1.0.34.119 Android',\n",
       "       'Instagram 194.0.0.36.172 Android',\n",
       "       'Instagram 213.0.0.29.120 Android', 'Nokia501',\n",
       "       'Instagram 202.0.0.23.119', 'Coc Coc', 'Maxthon', 'helloworld',\n",
       "       'Amazon Silk', 'Instagram 192.0.0.35.123 Android',\n",
       "       'Instagram 208.0.0.26.131', 'SeaMonkey', 'Threads 202.0.0.23.119',\n",
       "       'Instagram 192.0.0.37.119', 'NokiaX2-02', 'Iron',\n",
       "       'Instagram 203.0.0.26.117', 'MT6735_TD',\n",
       "       'Instagram 206.1.0.34.121 Android', 'com.zhiliaoapp.musically'],\n",
       "      dtype=object)"
      ]
     },
     "execution_count": 72,
     "metadata": {},
     "output_type": "execute_result"
    }
   ],
   "source": [
    "df.device_browser.unique()"
   ]
  },
  {
   "cell_type": "markdown",
   "id": "c6020894",
   "metadata": {},
   "source": [
    "В колонке device_browser имеются не корректные данные браузера. Преобразуем их в нормальный формат.\n",
    "Скорее всего Instagram 216.1.0.21.137 Android это приложение инстаграмм. Оставим с помощью функции только первые символы"
   ]
  },
  {
   "cell_type": "code",
   "execution_count": 73,
   "id": "d161f174",
   "metadata": {},
   "outputs": [],
   "source": [
    "def normal_str(str_list):\n",
    "    if str_list[0:9] == 'Instagram':\n",
    "        str_list = 'Instagram'\n",
    "    if str_list[0:7] == 'Threads':\n",
    "        str_list = 'Threads'\n",
    "    if str_list[0:5] == '[FBAN':\n",
    "        str_list = 'Facebook'\n",
    "    if str_list[0:10] == 'helloworld':\n",
    "        str_list = 'other'\n",
    "    return str_list"
   ]
  },
  {
   "cell_type": "code",
   "execution_count": 74,
   "id": "cf721f5b",
   "metadata": {},
   "outputs": [],
   "source": [
    "df.device_browser = df.device_browser.apply(normal_str)"
   ]
  },
  {
   "cell_type": "code",
   "execution_count": 75,
   "id": "e86d60c9",
   "metadata": {},
   "outputs": [
    {
     "data": {
      "text/plain": [
       "array(['Edge', 'Chrome', 'Safari', 'Opera', 'Safari (in-app)',\n",
       "       'YaBrowser', 'NetFront', 'Android Webview', 'Samsung Internet',\n",
       "       'Firefox', 'Android Browser', 'Puffin', 'MRCHROME',\n",
       "       'Mozilla Compatible Agent', 'Facebook', 'Instagram', 'UC Browser',\n",
       "       'Mozilla', 'Android Runtime', 'other', 'Internet Explorer',\n",
       "       'Android', 'Opera Mini', 'com.vk.vkclient', 'Konqueror', 'MyApp',\n",
       "       'Nokia501', 'Coc Coc', 'Maxthon', 'Amazon Silk', 'SeaMonkey',\n",
       "       'Threads', 'NokiaX2-02', 'Iron', 'MT6735_TD',\n",
       "       'com.zhiliaoapp.musically'], dtype=object)"
      ]
     },
     "execution_count": 75,
     "metadata": {},
     "output_type": "execute_result"
    }
   ],
   "source": [
    "df.device_browser.unique()"
   ]
  },
  {
   "cell_type": "markdown",
   "id": "4fe535f3",
   "metadata": {},
   "source": [
    "Количество уникальных значений в колонке device_screen_resolution = 4964.\n",
    "Датасет после OneHotEncoder будет просто огромный в ширину. Разделим этот признак на несколько категорий"
   ]
  },
  {
   "cell_type": "code",
   "execution_count": 76,
   "id": "600f60f4",
   "metadata": {},
   "outputs": [],
   "source": [
    "df.loc[df['device_screen_resolution'] == 'other', 'device_screen_resolution'] = '0x0'"
   ]
  },
  {
   "cell_type": "code",
   "execution_count": 77,
   "id": "820c3b63",
   "metadata": {},
   "outputs": [],
   "source": [
    "def pixels(screen_resolution):\n",
    "    screen_list = screen_resolution.split('x')\n",
    "    pixels = int(screen_list[0]) * int(screen_list[1])\n",
    "\n",
    "    return pixels"
   ]
  },
  {
   "cell_type": "code",
   "execution_count": 78,
   "id": "8ad98638",
   "metadata": {},
   "outputs": [],
   "source": [
    "df.device_screen_resolution = df.device_screen_resolution.apply(pixels)"
   ]
  },
  {
   "cell_type": "code",
   "execution_count": 79,
   "id": "476cbb5f",
   "metadata": {},
   "outputs": [],
   "source": [
    "def distribution(df):\n",
    "    plt.figure(figsize=(8, 5))\n",
    "    plt.hist(df, bins=50, color=\"indigo\")\n",
    "    plt.xlabel('Значение величины')\n",
    "    plt.ylabel('Частота')\n",
    "    plt.title('Распределение по выборке');"
   ]
  },
  {
   "cell_type": "code",
   "execution_count": 80,
   "id": "f97e4c59",
   "metadata": {},
   "outputs": [
    {
     "data": {
      "image/png": "[encoded data removed]",
      "text/plain": [
       "<Figure size 576x360 with 1 Axes>"
      ]
     },
     "metadata": {
      "needs_background": "light"
     },
     "output_type": "display_data"
    }
   ],
   "source": [
    "distribution(df.device_screen_resolution)"
   ]
  },
  {
   "cell_type": "code",
   "execution_count": 81,
   "id": "5cad6195",
   "metadata": {},
   "outputs": [
    {
     "data": {
      "text/plain": [
       "(-32000.001, 320000.0]      606460\n",
       "(320000.0, 640000.0]        523340\n",
       "(1920000.0, 2240000.0]       92214\n",
       "(1280000.0, 1600000.0]       63631\n",
       "(960000.0, 1280000.0]        35554\n",
       "                             ...  \n",
       "(18880000.0, 19200000.0]         0\n",
       "(19520000.0, 19840000.0]         0\n",
       "(19840000.0, 20160000.0]         0\n",
       "(20160000.0, 20480000.0]         0\n",
       "(16000000.0, 16320000.0]         0\n",
       "Name: device_screen_resolution, Length: 100, dtype: int64"
      ]
     },
     "execution_count": 81,
     "metadata": {},
     "output_type": "execute_result"
    }
   ],
   "source": [
    "df.device_screen_resolution.value_counts(bins=100)"
   ]
  },
  {
   "cell_type": "markdown",
   "id": "31d31939",
   "metadata": {},
   "source": [
    "Сгруппируем категории так, чтобы было примерно равномерное распределение по категориям"
   ]
  },
  {
   "cell_type": "code",
   "execution_count": 82,
   "id": "90842e0d",
   "metadata": {},
   "outputs": [
    {
     "data": {
      "text/plain": [
       "473722"
      ]
     },
     "execution_count": 82,
     "metadata": {},
     "output_type": "execute_result"
    }
   ],
   "source": [
    "len(df[df.device_screen_resolution < 300000])"
   ]
  },
  {
   "cell_type": "code",
   "execution_count": 83,
   "id": "8c8d6d3a",
   "metadata": {},
   "outputs": [
    {
     "data": {
      "text/plain": [
       "552227"
      ]
     },
     "execution_count": 83,
     "metadata": {},
     "output_type": "execute_result"
    }
   ],
   "source": [
    "len(df[(df.device_screen_resolution >= 300000 ) & (df.device_screen_resolution <= 375000)])"
   ]
  },
  {
   "cell_type": "code",
   "execution_count": 84,
   "id": "4cac6749",
   "metadata": {},
   "outputs": [
    {
     "data": {
      "text/plain": [
       "365768"
      ]
     },
     "execution_count": 84,
     "metadata": {},
     "output_type": "execute_result"
    }
   ],
   "source": [
    "len(df[df.device_screen_resolution > 375000])"
   ]
  },
  {
   "cell_type": "code",
   "execution_count": 85,
   "id": "da551f72",
   "metadata": {},
   "outputs": [],
   "source": [
    "def pixels_range(pixel):\n",
    "    if pixel == 0:\n",
    "        resolution = 'other'\n",
    "    elif (pixel > 0) & (pixel < 300000):\n",
    "        resolution = 'low'\n",
    "    elif pixel > 375000:\n",
    "        resolution = 'high'\n",
    "    else:\n",
    "        resolution = 'medium'\n",
    "\n",
    "    return resolution"
   ]
  },
  {
   "cell_type": "code",
   "execution_count": 86,
   "id": "1340d099",
   "metadata": {},
   "outputs": [],
   "source": [
    "df.device_screen_resolution = df.device_screen_resolution.apply(pixels_range)"
   ]
  },
  {
   "cell_type": "code",
   "execution_count": 87,
   "id": "31d1a257",
   "metadata": {},
   "outputs": [
    {
     "data": {
      "text/plain": [
       "utm_source                   263\n",
       "utm_medium                    51\n",
       "utm_campaign                 388\n",
       "utm_adcontent                271\n",
       "utm_keyword                 1167\n",
       "device_category                3\n",
       "device_os                     13\n",
       "device_brand                 205\n",
       "device_screen_resolution       4\n",
       "device_browser                36\n",
       "geo_country                  164\n",
       "geo_city                    2477\n",
       "y                              2\n",
       "dtype: int64"
      ]
     },
     "execution_count": 87,
     "metadata": {},
     "output_type": "execute_result"
    }
   ],
   "source": [
    "df.nunique()"
   ]
  },
  {
   "cell_type": "code",
   "execution_count": 88,
   "id": "5d8b6285",
   "metadata": {},
   "outputs": [
    {
     "data": {
      "text/plain": [
       "medium    552227\n",
       "low       473703\n",
       "high      365768\n",
       "other         19\n",
       "Name: device_screen_resolution, dtype: int64"
      ]
     },
     "execution_count": 88,
     "metadata": {},
     "output_type": "execute_result"
    }
   ],
   "source": [
    "df.device_screen_resolution.value_counts()"
   ]
  },
  {
   "cell_type": "code",
   "execution_count": 89,
   "id": "579077d4",
   "metadata": {},
   "outputs": [
    {
     "data": {
      "text/plain": [
       "utm_source                   263\n",
       "utm_medium                    51\n",
       "utm_campaign                 388\n",
       "utm_adcontent                271\n",
       "utm_keyword                 1167\n",
       "device_category                3\n",
       "device_os                     13\n",
       "device_brand                 205\n",
       "device_screen_resolution       4\n",
       "device_browser                36\n",
       "geo_country                  164\n",
       "geo_city                    2477\n",
       "y                              2\n",
       "dtype: int64"
      ]
     },
     "execution_count": 89,
     "metadata": {},
     "output_type": "execute_result"
    }
   ],
   "source": [
    "df.nunique()"
   ]
  },
  {
   "cell_type": "markdown",
   "id": "04f7b36e",
   "metadata": {},
   "source": [
    "geo_city - преобразовать никак невозможно, потому как снижение количества уникальных значений сильно повлияет на модель\n",
    "и этот признак станет бесполезным, так как сберавтоподписка работает в разных регионах этот параметр необходимо учитывать.\n",
    "utm_keyword - ключевое слово тоже невозможно никак преобразовать\n",
    "То есть дальнейшие преобразования категориальных признаков невозможны."
   ]
  },
  {
   "cell_type": "markdown",
   "id": "bcd1e9bd",
   "metadata": {},
   "source": [
    "посчитаем размерность датасета после преобразования ohe"
   ]
  },
  {
   "cell_type": "code",
   "execution_count": 90,
   "id": "a348e877",
   "metadata": {},
   "outputs": [
    {
     "data": {
      "text/plain": [
       "5044"
      ]
     },
     "execution_count": 90,
     "metadata": {},
     "output_type": "execute_result"
    }
   ],
   "source": [
    "number_of_cat = 0\n",
    "for col in df.columns:\n",
    "    number_of_cat += df[col].unique().shape[0]\n",
    "number_of_cat"
   ]
  },
  {
   "cell_type": "markdown",
   "id": "9e80f120",
   "metadata": {},
   "source": [
    "Размерность датасета после преобразования по прежнему огромная. Стандартными методами преобразовать датасет для моделирования\n",
    "затруднительно. Модель может работать только с числовыми признаками."
   ]
  },
  {
   "cell_type": "markdown",
   "id": "9b5de2e5",
   "metadata": {},
   "source": [
    "## 4 - Modelling"
   ]
  },
  {
   "cell_type": "markdown",
   "id": "84118af8",
   "metadata": {},
   "source": [
    "### 4.1 - Кодирование категориальных признаков для этапа моделирования"
   ]
  },
  {
   "cell_type": "code",
   "execution_count": 15,
   "id": "c4a61391",
   "metadata": {},
   "outputs": [
    {
     "data": {
      "text/html": [
       "<div>\n",
       "<style scoped>\n",
       "    .dataframe tbody tr th:only-of-type {\n",
       "        vertical-align: middle;\n",
       "    }\n",
       "\n",
       "    .dataframe tbody tr th {\n",
       "        vertical-align: top;\n",
       "    }\n",
       "\n",
       "    .dataframe thead th {\n",
       "        text-align: right;\n",
       "    }\n",
       "</style>\n",
       "<table border=\"1\" class=\"dataframe\">\n",
       "  <thead>\n",
       "    <tr style=\"text-align: right;\">\n",
       "      <th></th>\n",
       "      <th>client_id</th>\n",
       "      <th>utm_source</th>\n",
       "      <th>utm_medium</th>\n",
       "      <th>utm_campaign</th>\n",
       "      <th>utm_adcontent</th>\n",
       "      <th>utm_keyword</th>\n",
       "      <th>device_category</th>\n",
       "      <th>device_os</th>\n",
       "      <th>device_brand</th>\n",
       "      <th>device_screen_resolution</th>\n",
       "      <th>device_browser</th>\n",
       "      <th>geo_country</th>\n",
       "      <th>geo_city</th>\n",
       "      <th>y</th>\n",
       "    </tr>\n",
       "  </thead>\n",
       "  <tbody>\n",
       "    <tr>\n",
       "      <th>0</th>\n",
       "      <td>207632138.162184</td>\n",
       "      <td>bByPQxmDaMXgpHeypKSM</td>\n",
       "      <td>referral</td>\n",
       "      <td>LTuZkdKfxRGVceoWkVyg</td>\n",
       "      <td>JNHcPlZPxEMWDnRiyoBf</td>\n",
       "      <td>other</td>\n",
       "      <td>desktop</td>\n",
       "      <td>other</td>\n",
       "      <td>Apple</td>\n",
       "      <td>high</td>\n",
       "      <td>Edge</td>\n",
       "      <td>Russia</td>\n",
       "      <td>Krasnogorsk</td>\n",
       "      <td>0</td>\n",
       "    </tr>\n",
       "    <tr>\n",
       "      <th>1</th>\n",
       "      <td>874891208.163137</td>\n",
       "      <td>kjsLglQLzykiRbcDiGcD</td>\n",
       "      <td>cpc</td>\n",
       "      <td>bJJuEXRheRIxXEaYIXqM</td>\n",
       "      <td>JNHcPlZPxEMWDnRiyoBf</td>\n",
       "      <td>other</td>\n",
       "      <td>mobile</td>\n",
       "      <td>other</td>\n",
       "      <td>Samsung</td>\n",
       "      <td>low</td>\n",
       "      <td>Chrome</td>\n",
       "      <td>Russia</td>\n",
       "      <td>Saint Petersburg</td>\n",
       "      <td>0</td>\n",
       "    </tr>\n",
       "    <tr>\n",
       "      <th>2</th>\n",
       "      <td>1930738110.163113</td>\n",
       "      <td>ZpYIoDJMcFzVoPFsHGJL</td>\n",
       "      <td>banner</td>\n",
       "      <td>gecBYcKZCPMcVYdSSzKP</td>\n",
       "      <td>JNHcPlZPxEMWDnRiyoBf</td>\n",
       "      <td>other</td>\n",
       "      <td>mobile</td>\n",
       "      <td>other</td>\n",
       "      <td>ZTE</td>\n",
       "      <td>low</td>\n",
       "      <td>Chrome</td>\n",
       "      <td>Russia</td>\n",
       "      <td>Kurgan</td>\n",
       "      <td>0</td>\n",
       "    </tr>\n",
       "    <tr>\n",
       "      <th>3</th>\n",
       "      <td>957117224.163813</td>\n",
       "      <td>ZpYIoDJMcFzVoPFsHGJL</td>\n",
       "      <td>banner</td>\n",
       "      <td>LEoPHuyFvzoNfnzGgfcd</td>\n",
       "      <td>vCIpmpaGBnIQhyYNkXqp</td>\n",
       "      <td>puhZPIYqKXeFPaUviSjo</td>\n",
       "      <td>mobile</td>\n",
       "      <td>iOS</td>\n",
       "      <td>Apple</td>\n",
       "      <td>medium</td>\n",
       "      <td>Safari</td>\n",
       "      <td>Russia</td>\n",
       "      <td>Moscow</td>\n",
       "      <td>0</td>\n",
       "    </tr>\n",
       "    <tr>\n",
       "      <th>4</th>\n",
       "      <td>758400556.163319</td>\n",
       "      <td>kjsLglQLzykiRbcDiGcD</td>\n",
       "      <td>cpc</td>\n",
       "      <td>LwJZxKuWmvOhPsaCeRjG</td>\n",
       "      <td>JNHcPlZPxEMWDnRiyoBf</td>\n",
       "      <td>other</td>\n",
       "      <td>mobile</td>\n",
       "      <td>other</td>\n",
       "      <td>Apple</td>\n",
       "      <td>high</td>\n",
       "      <td>Safari</td>\n",
       "      <td>Russia</td>\n",
       "      <td>Moscow</td>\n",
       "      <td>0</td>\n",
       "    </tr>\n",
       "    <tr>\n",
       "      <th>...</th>\n",
       "      <td>...</td>\n",
       "      <td>...</td>\n",
       "      <td>...</td>\n",
       "      <td>...</td>\n",
       "      <td>...</td>\n",
       "      <td>...</td>\n",
       "      <td>...</td>\n",
       "      <td>...</td>\n",
       "      <td>...</td>\n",
       "      <td>...</td>\n",
       "      <td>...</td>\n",
       "      <td>...</td>\n",
       "      <td>...</td>\n",
       "      <td>...</td>\n",
       "    </tr>\n",
       "    <tr>\n",
       "      <th>1391712</th>\n",
       "      <td>1454609777.163706</td>\n",
       "      <td>MvfHsxITijuriZxsqZqt</td>\n",
       "      <td>cpm</td>\n",
       "      <td>FTjNLDyTrXaWYgZymFkV</td>\n",
       "      <td>xhoenQgDQsgfEPYNPwKO</td>\n",
       "      <td>IGUCNvHlhfHpROGclCit</td>\n",
       "      <td>mobile</td>\n",
       "      <td>Android</td>\n",
       "      <td>Xiaomi</td>\n",
       "      <td>low</td>\n",
       "      <td>Chrome</td>\n",
       "      <td>Russia</td>\n",
       "      <td>Moscow</td>\n",
       "      <td>0</td>\n",
       "    </tr>\n",
       "    <tr>\n",
       "      <th>1391713</th>\n",
       "      <td>2083824555.163747</td>\n",
       "      <td>ZpYIoDJMcFzVoPFsHGJL</td>\n",
       "      <td>banner</td>\n",
       "      <td>LEoPHuyFvzoNfnzGgfcd</td>\n",
       "      <td>JNHcPlZPxEMWDnRiyoBf</td>\n",
       "      <td>puhZPIYqKXeFPaUviSjo</td>\n",
       "      <td>mobile</td>\n",
       "      <td>iOS</td>\n",
       "      <td>Apple</td>\n",
       "      <td>low</td>\n",
       "      <td>Safari</td>\n",
       "      <td>Russia</td>\n",
       "      <td>Surgut</td>\n",
       "      <td>0</td>\n",
       "    </tr>\n",
       "    <tr>\n",
       "      <th>1391714</th>\n",
       "      <td>1809262921.163431</td>\n",
       "      <td>kjsLglQLzykiRbcDiGcD</td>\n",
       "      <td>cpc</td>\n",
       "      <td>LTuZkdKfxRGVceoWkVyg</td>\n",
       "      <td>JNHcPlZPxEMWDnRiyoBf</td>\n",
       "      <td>other</td>\n",
       "      <td>mobile</td>\n",
       "      <td>other</td>\n",
       "      <td>Apple</td>\n",
       "      <td>medium</td>\n",
       "      <td>Safari</td>\n",
       "      <td>Russia</td>\n",
       "      <td>Moscow</td>\n",
       "      <td>0</td>\n",
       "    </tr>\n",
       "    <tr>\n",
       "      <th>1391715</th>\n",
       "      <td>538494300.163927</td>\n",
       "      <td>ZpYIoDJMcFzVoPFsHGJL</td>\n",
       "      <td>banner</td>\n",
       "      <td>TmThBvoCcwkCZZUWACYq</td>\n",
       "      <td>JNHcPlZPxEMWDnRiyoBf</td>\n",
       "      <td>puhZPIYqKXeFPaUviSjo</td>\n",
       "      <td>mobile</td>\n",
       "      <td>Android</td>\n",
       "      <td>Huawei</td>\n",
       "      <td>low</td>\n",
       "      <td>Chrome</td>\n",
       "      <td>Russia</td>\n",
       "      <td>Novosibirsk</td>\n",
       "      <td>0</td>\n",
       "    </tr>\n",
       "    <tr>\n",
       "      <th>1391716</th>\n",
       "      <td>558607117.162185</td>\n",
       "      <td>fDLlAcSmythWSCVMvqvL</td>\n",
       "      <td>other</td>\n",
       "      <td>LTuZkdKfxRGVceoWkVyg</td>\n",
       "      <td>JNHcPlZPxEMWDnRiyoBf</td>\n",
       "      <td>other</td>\n",
       "      <td>desktop</td>\n",
       "      <td>other</td>\n",
       "      <td>Apple</td>\n",
       "      <td>high</td>\n",
       "      <td>Chrome</td>\n",
       "      <td>Russia</td>\n",
       "      <td>Moscow</td>\n",
       "      <td>0</td>\n",
       "    </tr>\n",
       "  </tbody>\n",
       "</table>\n",
       "<p>1391717 rows × 14 columns</p>\n",
       "</div>"
      ],
      "text/plain": [
       "                 client_id            utm_source utm_medium  \\\n",
       "0         207632138.162184  bByPQxmDaMXgpHeypKSM   referral   \n",
       "1         874891208.163137  kjsLglQLzykiRbcDiGcD        cpc   \n",
       "2        1930738110.163113  ZpYIoDJMcFzVoPFsHGJL     banner   \n",
       "3         957117224.163813  ZpYIoDJMcFzVoPFsHGJL     banner   \n",
       "4         758400556.163319  kjsLglQLzykiRbcDiGcD        cpc   \n",
       "...                    ...                   ...        ...   \n",
       "1391712  1454609777.163706  MvfHsxITijuriZxsqZqt        cpm   \n",
       "1391713  2083824555.163747  ZpYIoDJMcFzVoPFsHGJL     banner   \n",
       "1391714  1809262921.163431  kjsLglQLzykiRbcDiGcD        cpc   \n",
       "1391715   538494300.163927  ZpYIoDJMcFzVoPFsHGJL     banner   \n",
       "1391716   558607117.162185  fDLlAcSmythWSCVMvqvL      other   \n",
       "\n",
       "                 utm_campaign         utm_adcontent           utm_keyword  \\\n",
       "0        LTuZkdKfxRGVceoWkVyg  JNHcPlZPxEMWDnRiyoBf                 other   \n",
       "1        bJJuEXRheRIxXEaYIXqM  JNHcPlZPxEMWDnRiyoBf                 other   \n",
       "2        gecBYcKZCPMcVYdSSzKP  JNHcPlZPxEMWDnRiyoBf                 other   \n",
       "3        LEoPHuyFvzoNfnzGgfcd  vCIpmpaGBnIQhyYNkXqp  puhZPIYqKXeFPaUviSjo   \n",
       "4        LwJZxKuWmvOhPsaCeRjG  JNHcPlZPxEMWDnRiyoBf                 other   \n",
       "...                       ...                   ...                   ...   \n",
       "1391712  FTjNLDyTrXaWYgZymFkV  xhoenQgDQsgfEPYNPwKO  IGUCNvHlhfHpROGclCit   \n",
       "1391713  LEoPHuyFvzoNfnzGgfcd  JNHcPlZPxEMWDnRiyoBf  puhZPIYqKXeFPaUviSjo   \n",
       "1391714  LTuZkdKfxRGVceoWkVyg  JNHcPlZPxEMWDnRiyoBf                 other   \n",
       "1391715  TmThBvoCcwkCZZUWACYq  JNHcPlZPxEMWDnRiyoBf  puhZPIYqKXeFPaUviSjo   \n",
       "1391716  LTuZkdKfxRGVceoWkVyg  JNHcPlZPxEMWDnRiyoBf                 other   \n",
       "\n",
       "        device_category device_os device_brand device_screen_resolution  \\\n",
       "0               desktop     other        Apple                     high   \n",
       "1                mobile     other      Samsung                      low   \n",
       "2                mobile     other          ZTE                      low   \n",
       "3                mobile       iOS        Apple                   medium   \n",
       "4                mobile     other        Apple                     high   \n",
       "...                 ...       ...          ...                      ...   \n",
       "1391712          mobile   Android       Xiaomi                      low   \n",
       "1391713          mobile       iOS        Apple                      low   \n",
       "1391714          mobile     other        Apple                   medium   \n",
       "1391715          mobile   Android       Huawei                      low   \n",
       "1391716         desktop     other        Apple                     high   \n",
       "\n",
       "        device_browser geo_country          geo_city  y  \n",
       "0                 Edge      Russia       Krasnogorsk  0  \n",
       "1               Chrome      Russia  Saint Petersburg  0  \n",
       "2               Chrome      Russia            Kurgan  0  \n",
       "3               Safari      Russia            Moscow  0  \n",
       "4               Safari      Russia            Moscow  0  \n",
       "...                ...         ...               ... ..  \n",
       "1391712         Chrome      Russia            Moscow  0  \n",
       "1391713         Safari      Russia            Surgut  0  \n",
       "1391714         Safari      Russia            Moscow  0  \n",
       "1391715         Chrome      Russia       Novosibirsk  0  \n",
       "1391716         Chrome      Russia            Moscow  0  \n",
       "\n",
       "[1391717 rows x 14 columns]"
      ]
     },
     "execution_count": 15,
     "metadata": {},
     "output_type": "execute_result"
    }
   ],
   "source": [
    "df_model = pd.read_csv('data/df.csv')\n",
    "df_model"
   ]
  },
  {
   "cell_type": "markdown",
   "id": "437e0579",
   "metadata": {},
   "source": [
    "Применим нестандартное кодирование (вероятностный подход) для уменьшения размерности df и экономии памяти\n",
    "Источник https://github.com/art-glazunov/Non-standard-categorical-encodings/blob/main/group_counts_and_entropy.ipynb"
   ]
  },
  {
   "cell_type": "code",
   "execution_count": 16,
   "id": "3e5faf3e",
   "metadata": {},
   "outputs": [],
   "source": [
    "class EntropyCategoricalEmbedder:\n",
    "    \"\"\"Unsupervised categorical embedder based on group counts and entropy calculation\n",
    "\n",
    "    fit - get dictionary for the transformation of categorical objects into embeddings \n",
    "    transform - map the dictionary onto your categorical dataset to get the embeddings\n",
    "    \"\"\"\n",
    "\n",
    "    def __init__(self):\n",
    "        self.substitute_dict = {} #resulting dictionary to transform the objects into embs\n",
    "\n",
    "    def __repr__(self):\n",
    "        return self.__class__.__name__ + \"()\"\n",
    "    \n",
    "    @staticmethod\n",
    "    def cat_prep(data: pd.DataFrame) -> pd.DataFrame:\n",
    "        \"\"\"change category names for simplification\n",
    "\n",
    "        format -> category-name_category-name\n",
    "        \"\"\"\n",
    "\n",
    "        data_new = data.copy()\n",
    "        for col in tqdm(data.columns):\n",
    "            data_new[col] = data[col].apply(lambda x: col + '_' + str(x))\n",
    "        return data_new\n",
    "    \n",
    "    def fit(self, df_train: pd.DataFrame, verbose: bool = True) -> EntropyCategoricalEmbedderObject: # we created this custom type earlier\n",
    "        \"\"\"Create dictionary to map on the dataset\n",
    "\n",
    "        !!!Works only with categorical datasets!!!\n",
    "        dataset - pandas DataFrame with only categorical columns in str format (after cat_prep) \n",
    "        (each row is our object to get an embedding for)\n",
    "        \"\"\"\n",
    "        \n",
    "        feature_list = list(df_train.columns)\n",
    "        df = df_train.copy()\n",
    "        df['id'] = df.index\n",
    "        for group_key in tqdm(feature_list):    \n",
    "            passive_keys = feature_list[:]\n",
    "            passive_keys.remove(group_key)\n",
    "\n",
    "            category_embedding_mapping = {}\n",
    "            for passive_key in passive_keys:\n",
    "                if verbose:\n",
    "                    print('--- groupby: group_key - ', group_key, '### passive_key - ', passive_key, '---')                \n",
    "                group = df.groupby([group_key, passive_key])['id'].count()\n",
    "                group = group.unstack().fillna(0)\n",
    "                entropy_values = group.apply(entropy, axis=1)\n",
    "                for cat, entropy_value in entropy_values.to_dict().items():\n",
    "                    if cat in category_embedding_mapping:\n",
    "                        category_embedding_mapping[cat].extend([entropy_value]) \n",
    "                    else:\n",
    "                        category_embedding_mapping[cat] = [entropy_value]\n",
    "                \n",
    "            self.substitute_dict[group_key] = category_embedding_mapping  \n",
    "        return self\n",
    "\n",
    "    def transform(self, dataset: pd.DataFrame, \n",
    "                  fill_unknown_cat_value: int = 0,\n",
    "                  verbose: bool = False) -> List[list]:\n",
    "        \"\"\"Get embedding for each categorical row of the dataset\n",
    "\n",
    "        !!!Works only with categorical datasets!!!\n",
    "        dataset - pandas DataFrame with only categorical columns in str format (after cat_prep) \n",
    "        (each row is our object to get an embedding for)\n",
    "        fill_unknown_cat_value - the value to fill embedding vector for unknown categories\n",
    "        \"\"\"\n",
    "\n",
    "        dataset = dataset.copy()\n",
    "        feature_list = list(dataset.columns)        \n",
    "        emb_size = len(feature_list) - 1\n",
    "        if verbose:\n",
    "            print(\"Mapping vectors to categories...\")\n",
    "        for f in tqdm(feature_list):\n",
    "            dataset[f] = dataset[f].map(self.substitute_dict[f])              \n",
    "            dataset[f] = dataset[f].fillna('empty')\n",
    "            dataset[f] = dataset[f].apply(lambda x: [fill_unknown_cat_value] * emb_size if x == 'empty' else x)\n",
    "        \n",
    "        embeddings_list = []\n",
    "        if verbose:\n",
    "            print(\"Creating an embedding for each row...\")\n",
    "        for row in tqdm(dataset[feature_list].itertuples()):\n",
    "            embeddings_list.append(list(itertools.chain(*row[1:])))\n",
    "\n",
    "        return embeddings_list"
   ]
  },
  {
   "cell_type": "code",
   "execution_count": 17,
   "id": "1f9612f3",
   "metadata": {},
   "outputs": [],
   "source": [
    "df_model = df_model.drop(['client_id'], axis=1)\n",
    "x = df_model.drop(['y'], axis=1)\n",
    "y = df_model['y']\n",
    "\n",
    "X_train, X_test, y_train, y_test = train_test_split(x, y, test_size=0.3, random_state=42)"
   ]
  },
  {
   "cell_type": "code",
   "execution_count": 18,
   "id": "126b67fd",
   "metadata": {},
   "outputs": [
    {
     "data": {
      "application/vnd.jupyter.widget-view+json": {
       "model_id": "93ce9fa76c774b23a82e0cef4ac427e3",
       "version_major": 2,
       "version_minor": 0
      },
      "text/plain": [
       "  0%|          | 0/12 [00:00<?, ?it/s]"
      ]
     },
     "metadata": {},
     "output_type": "display_data"
    },
    {
     "data": {
      "text/html": [
       "<div>\n",
       "<style scoped>\n",
       "    .dataframe tbody tr th:only-of-type {\n",
       "        vertical-align: middle;\n",
       "    }\n",
       "\n",
       "    .dataframe tbody tr th {\n",
       "        vertical-align: top;\n",
       "    }\n",
       "\n",
       "    .dataframe thead th {\n",
       "        text-align: right;\n",
       "    }\n",
       "</style>\n",
       "<table border=\"1\" class=\"dataframe\">\n",
       "  <thead>\n",
       "    <tr style=\"text-align: right;\">\n",
       "      <th></th>\n",
       "      <th>utm_source</th>\n",
       "      <th>utm_medium</th>\n",
       "      <th>utm_campaign</th>\n",
       "      <th>utm_adcontent</th>\n",
       "      <th>utm_keyword</th>\n",
       "      <th>device_category</th>\n",
       "      <th>device_os</th>\n",
       "      <th>device_brand</th>\n",
       "      <th>device_screen_resolution</th>\n",
       "      <th>device_browser</th>\n",
       "      <th>geo_country</th>\n",
       "      <th>geo_city</th>\n",
       "    </tr>\n",
       "  </thead>\n",
       "  <tbody>\n",
       "    <tr>\n",
       "      <th>82936</th>\n",
       "      <td>utm_source_fDLlAcSmythWSCVMvqvL</td>\n",
       "      <td>utm_medium_other</td>\n",
       "      <td>utm_campaign_LTuZkdKfxRGVceoWkVyg</td>\n",
       "      <td>utm_adcontent_JNHcPlZPxEMWDnRiyoBf</td>\n",
       "      <td>utm_keyword_other</td>\n",
       "      <td>device_category_mobile</td>\n",
       "      <td>device_os_other</td>\n",
       "      <td>device_brand_Apple</td>\n",
       "      <td>device_screen_resolution_medium</td>\n",
       "      <td>device_browser_Safari</td>\n",
       "      <td>geo_country_Russia</td>\n",
       "      <td>geo_city_Nizhny Novgorod</td>\n",
       "    </tr>\n",
       "    <tr>\n",
       "      <th>575196</th>\n",
       "      <td>utm_source_ZpYIoDJMcFzVoPFsHGJL</td>\n",
       "      <td>utm_medium_smartbanner</td>\n",
       "      <td>utm_campaign_jqlUOdZBNZYfInQVcZlS</td>\n",
       "      <td>utm_adcontent_SAVVWaMghGnnvPOqMOIt</td>\n",
       "      <td>utm_keyword_puhZPIYqKXeFPaUviSjo</td>\n",
       "      <td>device_category_mobile</td>\n",
       "      <td>device_os_Android</td>\n",
       "      <td>device_brand_Samsung</td>\n",
       "      <td>device_screen_resolution_high</td>\n",
       "      <td>device_browser_Chrome</td>\n",
       "      <td>geo_country_Russia</td>\n",
       "      <td>geo_city_Saint Petersburg</td>\n",
       "    </tr>\n",
       "    <tr>\n",
       "      <th>1362073</th>\n",
       "      <td>utm_source_MvfHsxITijuriZxsqZqt</td>\n",
       "      <td>utm_medium_cpm</td>\n",
       "      <td>utm_campaign_FTjNLDyTrXaWYgZymFkV</td>\n",
       "      <td>utm_adcontent_xhoenQgDQsgfEPYNPwKO</td>\n",
       "      <td>utm_keyword_other</td>\n",
       "      <td>device_category_mobile</td>\n",
       "      <td>device_os_other</td>\n",
       "      <td>device_brand_Samsung</td>\n",
       "      <td>device_screen_resolution_low</td>\n",
       "      <td>device_browser_Samsung Internet</td>\n",
       "      <td>geo_country_Russia</td>\n",
       "      <td>geo_city_Moscow</td>\n",
       "    </tr>\n",
       "    <tr>\n",
       "      <th>373883</th>\n",
       "      <td>utm_source_MvfHsxITijuriZxsqZqt</td>\n",
       "      <td>utm_medium_cpm</td>\n",
       "      <td>utm_campaign_FTjNLDyTrXaWYgZymFkV</td>\n",
       "      <td>utm_adcontent_PkybGvWbaqORmxjNunqZ</td>\n",
       "      <td>utm_keyword_other</td>\n",
       "      <td>device_category_mobile</td>\n",
       "      <td>device_os_other</td>\n",
       "      <td>device_brand_other</td>\n",
       "      <td>device_screen_resolution_low</td>\n",
       "      <td>device_browser_YaBrowser</td>\n",
       "      <td>geo_country_Russia</td>\n",
       "      <td>geo_city_Saint Petersburg</td>\n",
       "    </tr>\n",
       "    <tr>\n",
       "      <th>1216981</th>\n",
       "      <td>utm_source_MvfHsxITijuriZxsqZqt</td>\n",
       "      <td>utm_medium_cpm</td>\n",
       "      <td>utm_campaign_FTjNLDyTrXaWYgZymFkV</td>\n",
       "      <td>utm_adcontent_dUuXlWzvmhDSyclWRhNP</td>\n",
       "      <td>utm_keyword_other</td>\n",
       "      <td>device_category_mobile</td>\n",
       "      <td>device_os_other</td>\n",
       "      <td>device_brand_Samsung</td>\n",
       "      <td>device_screen_resolution_low</td>\n",
       "      <td>device_browser_YaBrowser</td>\n",
       "      <td>geo_country_Russia</td>\n",
       "      <td>geo_city_Moscow</td>\n",
       "    </tr>\n",
       "  </tbody>\n",
       "</table>\n",
       "</div>"
      ],
      "text/plain": [
       "                              utm_source              utm_medium  \\\n",
       "82936    utm_source_fDLlAcSmythWSCVMvqvL        utm_medium_other   \n",
       "575196   utm_source_ZpYIoDJMcFzVoPFsHGJL  utm_medium_smartbanner   \n",
       "1362073  utm_source_MvfHsxITijuriZxsqZqt          utm_medium_cpm   \n",
       "373883   utm_source_MvfHsxITijuriZxsqZqt          utm_medium_cpm   \n",
       "1216981  utm_source_MvfHsxITijuriZxsqZqt          utm_medium_cpm   \n",
       "\n",
       "                              utm_campaign  \\\n",
       "82936    utm_campaign_LTuZkdKfxRGVceoWkVyg   \n",
       "575196   utm_campaign_jqlUOdZBNZYfInQVcZlS   \n",
       "1362073  utm_campaign_FTjNLDyTrXaWYgZymFkV   \n",
       "373883   utm_campaign_FTjNLDyTrXaWYgZymFkV   \n",
       "1216981  utm_campaign_FTjNLDyTrXaWYgZymFkV   \n",
       "\n",
       "                              utm_adcontent                       utm_keyword  \\\n",
       "82936    utm_adcontent_JNHcPlZPxEMWDnRiyoBf                 utm_keyword_other   \n",
       "575196   utm_adcontent_SAVVWaMghGnnvPOqMOIt  utm_keyword_puhZPIYqKXeFPaUviSjo   \n",
       "1362073  utm_adcontent_xhoenQgDQsgfEPYNPwKO                 utm_keyword_other   \n",
       "373883   utm_adcontent_PkybGvWbaqORmxjNunqZ                 utm_keyword_other   \n",
       "1216981  utm_adcontent_dUuXlWzvmhDSyclWRhNP                 utm_keyword_other   \n",
       "\n",
       "                device_category          device_os          device_brand  \\\n",
       "82936    device_category_mobile    device_os_other    device_brand_Apple   \n",
       "575196   device_category_mobile  device_os_Android  device_brand_Samsung   \n",
       "1362073  device_category_mobile    device_os_other  device_brand_Samsung   \n",
       "373883   device_category_mobile    device_os_other    device_brand_other   \n",
       "1216981  device_category_mobile    device_os_other  device_brand_Samsung   \n",
       "\n",
       "                device_screen_resolution                   device_browser  \\\n",
       "82936    device_screen_resolution_medium            device_browser_Safari   \n",
       "575196     device_screen_resolution_high            device_browser_Chrome   \n",
       "1362073     device_screen_resolution_low  device_browser_Samsung Internet   \n",
       "373883      device_screen_resolution_low         device_browser_YaBrowser   \n",
       "1216981     device_screen_resolution_low         device_browser_YaBrowser   \n",
       "\n",
       "                geo_country                   geo_city  \n",
       "82936    geo_country_Russia   geo_city_Nizhny Novgorod  \n",
       "575196   geo_country_Russia  geo_city_Saint Petersburg  \n",
       "1362073  geo_country_Russia            geo_city_Moscow  \n",
       "373883   geo_country_Russia  geo_city_Saint Petersburg  \n",
       "1216981  geo_country_Russia            geo_city_Moscow  "
      ]
     },
     "execution_count": 18,
     "metadata": {},
     "output_type": "execute_result"
    }
   ],
   "source": [
    "df_train = X_train.copy()\n",
    "df_train = EntropyCategoricalEmbedder.cat_prep(df_train)\n",
    "df_train.head()"
   ]
  },
  {
   "cell_type": "code",
   "execution_count": 19,
   "id": "60f6f781",
   "metadata": {},
   "outputs": [
    {
     "data": {
      "application/vnd.jupyter.widget-view+json": {
       "model_id": "6855c55aeb9a43c8be33fea62347f6e5",
       "version_major": 2,
       "version_minor": 0
      },
      "text/plain": [
       "  0%|          | 0/12 [00:00<?, ?it/s]"
      ]
     },
     "metadata": {},
     "output_type": "display_data"
    },
    {
     "data": {
      "text/html": [
       "<div>\n",
       "<style scoped>\n",
       "    .dataframe tbody tr th:only-of-type {\n",
       "        vertical-align: middle;\n",
       "    }\n",
       "\n",
       "    .dataframe tbody tr th {\n",
       "        vertical-align: top;\n",
       "    }\n",
       "\n",
       "    .dataframe thead th {\n",
       "        text-align: right;\n",
       "    }\n",
       "</style>\n",
       "<table border=\"1\" class=\"dataframe\">\n",
       "  <thead>\n",
       "    <tr style=\"text-align: right;\">\n",
       "      <th></th>\n",
       "      <th>utm_source</th>\n",
       "      <th>utm_medium</th>\n",
       "      <th>utm_campaign</th>\n",
       "      <th>utm_adcontent</th>\n",
       "      <th>utm_keyword</th>\n",
       "      <th>device_category</th>\n",
       "      <th>device_os</th>\n",
       "      <th>device_brand</th>\n",
       "      <th>device_screen_resolution</th>\n",
       "      <th>device_browser</th>\n",
       "      <th>geo_country</th>\n",
       "      <th>geo_city</th>\n",
       "    </tr>\n",
       "  </thead>\n",
       "  <tbody>\n",
       "    <tr>\n",
       "      <th>1135697</th>\n",
       "      <td>utm_source_geDcueAOghDzHkGMmdOq</td>\n",
       "      <td>utm_medium_cpm</td>\n",
       "      <td>utm_campaign_FTjNLDyTrXaWYgZymFkV</td>\n",
       "      <td>utm_adcontent_WYLajZgbUhGimwBKDZUH</td>\n",
       "      <td>utm_keyword_other</td>\n",
       "      <td>device_category_mobile</td>\n",
       "      <td>device_os_other</td>\n",
       "      <td>device_brand_Xiaomi</td>\n",
       "      <td>device_screen_resolution_medium</td>\n",
       "      <td>device_browser_Android Webview</td>\n",
       "      <td>geo_country_Russia</td>\n",
       "      <td>geo_city_Kaliningrad</td>\n",
       "    </tr>\n",
       "    <tr>\n",
       "      <th>145221</th>\n",
       "      <td>utm_source_kjsLglQLzykiRbcDiGcD</td>\n",
       "      <td>utm_medium_cpc</td>\n",
       "      <td>utm_campaign_LTuZkdKfxRGVceoWkVyg</td>\n",
       "      <td>utm_adcontent_JNHcPlZPxEMWDnRiyoBf</td>\n",
       "      <td>utm_keyword_other</td>\n",
       "      <td>device_category_mobile</td>\n",
       "      <td>device_os_other</td>\n",
       "      <td>device_brand_Xiaomi</td>\n",
       "      <td>device_screen_resolution_medium</td>\n",
       "      <td>device_browser_Chrome</td>\n",
       "      <td>geo_country_Russia</td>\n",
       "      <td>geo_city_Moscow</td>\n",
       "    </tr>\n",
       "    <tr>\n",
       "      <th>341526</th>\n",
       "      <td>utm_source_hTjLvqNxGggkGnxSCaTm</td>\n",
       "      <td>utm_medium_stories</td>\n",
       "      <td>utm_campaign_QEejXfOCtOMFLZqIPApp</td>\n",
       "      <td>utm_adcontent_JNHcPlZPxEMWDnRiyoBf</td>\n",
       "      <td>utm_keyword_other</td>\n",
       "      <td>device_category_mobile</td>\n",
       "      <td>device_os_other</td>\n",
       "      <td>device_brand_OnePlus</td>\n",
       "      <td>device_screen_resolution_medium</td>\n",
       "      <td>device_browser_Android Webview</td>\n",
       "      <td>geo_country_Ukraine</td>\n",
       "      <td>geo_city_Kyiv</td>\n",
       "    </tr>\n",
       "    <tr>\n",
       "      <th>1381201</th>\n",
       "      <td>utm_source_fDLlAcSmythWSCVMvqvL</td>\n",
       "      <td>utm_medium_other</td>\n",
       "      <td>utm_campaign_LTuZkdKfxRGVceoWkVyg</td>\n",
       "      <td>utm_adcontent_JNHcPlZPxEMWDnRiyoBf</td>\n",
       "      <td>utm_keyword_other</td>\n",
       "      <td>device_category_desktop</td>\n",
       "      <td>device_os_other</td>\n",
       "      <td>device_brand_Apple</td>\n",
       "      <td>device_screen_resolution_high</td>\n",
       "      <td>device_browser_Edge</td>\n",
       "      <td>geo_country_Russia</td>\n",
       "      <td>geo_city_Saint Petersburg</td>\n",
       "    </tr>\n",
       "    <tr>\n",
       "      <th>902478</th>\n",
       "      <td>utm_source_fDLlAcSmythWSCVMvqvL</td>\n",
       "      <td>utm_medium_other</td>\n",
       "      <td>utm_campaign_LTuZkdKfxRGVceoWkVyg</td>\n",
       "      <td>utm_adcontent_JNHcPlZPxEMWDnRiyoBf</td>\n",
       "      <td>utm_keyword_other</td>\n",
       "      <td>device_category_desktop</td>\n",
       "      <td>device_os_other</td>\n",
       "      <td>device_brand_Apple</td>\n",
       "      <td>device_screen_resolution_high</td>\n",
       "      <td>device_browser_YaBrowser</td>\n",
       "      <td>geo_country_Russia</td>\n",
       "      <td>geo_city_Saint Petersburg</td>\n",
       "    </tr>\n",
       "  </tbody>\n",
       "</table>\n",
       "</div>"
      ],
      "text/plain": [
       "                              utm_source          utm_medium  \\\n",
       "1135697  utm_source_geDcueAOghDzHkGMmdOq      utm_medium_cpm   \n",
       "145221   utm_source_kjsLglQLzykiRbcDiGcD      utm_medium_cpc   \n",
       "341526   utm_source_hTjLvqNxGggkGnxSCaTm  utm_medium_stories   \n",
       "1381201  utm_source_fDLlAcSmythWSCVMvqvL    utm_medium_other   \n",
       "902478   utm_source_fDLlAcSmythWSCVMvqvL    utm_medium_other   \n",
       "\n",
       "                              utm_campaign  \\\n",
       "1135697  utm_campaign_FTjNLDyTrXaWYgZymFkV   \n",
       "145221   utm_campaign_LTuZkdKfxRGVceoWkVyg   \n",
       "341526   utm_campaign_QEejXfOCtOMFLZqIPApp   \n",
       "1381201  utm_campaign_LTuZkdKfxRGVceoWkVyg   \n",
       "902478   utm_campaign_LTuZkdKfxRGVceoWkVyg   \n",
       "\n",
       "                              utm_adcontent        utm_keyword  \\\n",
       "1135697  utm_adcontent_WYLajZgbUhGimwBKDZUH  utm_keyword_other   \n",
       "145221   utm_adcontent_JNHcPlZPxEMWDnRiyoBf  utm_keyword_other   \n",
       "341526   utm_adcontent_JNHcPlZPxEMWDnRiyoBf  utm_keyword_other   \n",
       "1381201  utm_adcontent_JNHcPlZPxEMWDnRiyoBf  utm_keyword_other   \n",
       "902478   utm_adcontent_JNHcPlZPxEMWDnRiyoBf  utm_keyword_other   \n",
       "\n",
       "                 device_category        device_os          device_brand  \\\n",
       "1135697   device_category_mobile  device_os_other   device_brand_Xiaomi   \n",
       "145221    device_category_mobile  device_os_other   device_brand_Xiaomi   \n",
       "341526    device_category_mobile  device_os_other  device_brand_OnePlus   \n",
       "1381201  device_category_desktop  device_os_other    device_brand_Apple   \n",
       "902478   device_category_desktop  device_os_other    device_brand_Apple   \n",
       "\n",
       "                device_screen_resolution                  device_browser  \\\n",
       "1135697  device_screen_resolution_medium  device_browser_Android Webview   \n",
       "145221   device_screen_resolution_medium           device_browser_Chrome   \n",
       "341526   device_screen_resolution_medium  device_browser_Android Webview   \n",
       "1381201    device_screen_resolution_high             device_browser_Edge   \n",
       "902478     device_screen_resolution_high        device_browser_YaBrowser   \n",
       "\n",
       "                 geo_country                   geo_city  \n",
       "1135697   geo_country_Russia       geo_city_Kaliningrad  \n",
       "145221    geo_country_Russia            geo_city_Moscow  \n",
       "341526   geo_country_Ukraine              geo_city_Kyiv  \n",
       "1381201   geo_country_Russia  geo_city_Saint Petersburg  \n",
       "902478    geo_country_Russia  geo_city_Saint Petersburg  "
      ]
     },
     "execution_count": 19,
     "metadata": {},
     "output_type": "execute_result"
    }
   ],
   "source": [
    "df_test = X_test.copy()\n",
    "df_test = EntropyCategoricalEmbedder.cat_prep(df_test)\n",
    "df_test.head()"
   ]
  },
  {
   "cell_type": "code",
   "execution_count": 20,
   "id": "642d56f1",
   "metadata": {},
   "outputs": [
    {
     "data": {
      "text/plain": [
       "EntropyCategoricalEmbedder()"
      ]
     },
     "execution_count": 20,
     "metadata": {},
     "output_type": "execute_result"
    }
   ],
   "source": [
    "embedder = EntropyCategoricalEmbedder()\n",
    "embedder"
   ]
  },
  {
   "cell_type": "code",
   "execution_count": 21,
   "id": "92c6da4a",
   "metadata": {},
   "outputs": [
    {
     "data": {
      "application/vnd.jupyter.widget-view+json": {
       "model_id": "2062cd2a5e6f4c1d88862ad88188a4c0",
       "version_major": 2,
       "version_minor": 0
      },
      "text/plain": [
       "  0%|          | 0/12 [00:00<?, ?it/s]"
      ]
     },
     "metadata": {},
     "output_type": "display_data"
    },
    {
     "name": "stdout",
     "output_type": "stream",
     "text": [
      "Wall time: 36.4 s\n"
     ]
    },
    {
     "data": {
      "text/plain": [
       "EntropyCategoricalEmbedder()"
      ]
     },
     "execution_count": 21,
     "metadata": {},
     "output_type": "execute_result"
    }
   ],
   "source": [
    "%%time\n",
    "embedder.fit(df_train, verbose=False)"
   ]
  },
  {
   "cell_type": "code",
   "execution_count": 22,
   "id": "f5961c3f",
   "metadata": {},
   "outputs": [
    {
     "data": {
      "application/vnd.jupyter.widget-view+json": {
       "model_id": "b483ed9abbea44ad850d035fe4fc9ee4",
       "version_major": 2,
       "version_minor": 0
      },
      "text/plain": [
       "  0%|          | 0/12 [00:00<?, ?it/s]"
      ]
     },
     "metadata": {},
     "output_type": "display_data"
    },
    {
     "data": {
      "application/vnd.jupyter.widget-view+json": {
       "model_id": "2c9e6ea9b6cf472a855fd578ca9614b7",
       "version_major": 2,
       "version_minor": 0
      },
      "text/plain": [
       "0it [00:00, ?it/s]"
      ]
     },
     "metadata": {},
     "output_type": "display_data"
    },
    {
     "name": "stdout",
     "output_type": "stream",
     "text": [
      "Wall time: 16.5 s\n"
     ]
    }
   ],
   "source": [
    "%%time\n",
    "train_feat = embedder.transform(df_train)"
   ]
  },
  {
   "cell_type": "code",
   "execution_count": 23,
   "id": "42c29a3a",
   "metadata": {},
   "outputs": [
    {
     "data": {
      "application/vnd.jupyter.widget-view+json": {
       "model_id": "9d797daefff942a89eb9afdd0ab7b211",
       "version_major": 2,
       "version_minor": 0
      },
      "text/plain": [
       "  0%|          | 0/12 [00:00<?, ?it/s]"
      ]
     },
     "metadata": {},
     "output_type": "display_data"
    },
    {
     "data": {
      "application/vnd.jupyter.widget-view+json": {
       "model_id": "2730b440542d4043a1534875346b80fa",
       "version_major": 2,
       "version_minor": 0
      },
      "text/plain": [
       "0it [00:00, ?it/s]"
      ]
     },
     "metadata": {},
     "output_type": "display_data"
    },
    {
     "name": "stdout",
     "output_type": "stream",
     "text": [
      "Wall time: 8.24 s\n"
     ]
    }
   ],
   "source": [
    "%%time\n",
    "test_feat = embedder.transform(df_test)"
   ]
  },
  {
   "cell_type": "code",
   "execution_count": 24,
   "id": "c95e83cc",
   "metadata": {},
   "outputs": [
    {
     "data": {
      "text/plain": [
       "array([[0.        , 0.01776948, 0.02339191, ..., 1.07927553, 1.20311963,\n",
       "        0.        ],\n",
       "       [0.35368936, 2.55419398, 0.56366517, ..., 1.08105332, 1.4150564 ,\n",
       "        0.        ],\n",
       "       [0.56516568, 0.76614635, 0.        , ..., 1.06600711, 1.59104835,\n",
       "        0.        ],\n",
       "       ...,\n",
       "       [0.26241589, 1.45912113, 0.70171256, ..., 1.00469607, 0.92677599,\n",
       "        0.        ],\n",
       "       [0.57290121, 3.10725215, 0.03885377, ..., 1.02109376, 1.13800016,\n",
       "        0.        ],\n",
       "       [0.25891308, 0.10271922, 0.90408414, ..., 1.06038674, 1.32912096,\n",
       "        0.        ]])"
      ]
     },
     "execution_count": 24,
     "metadata": {},
     "output_type": "execute_result"
    }
   ],
   "source": [
    "np.array(test_feat)"
   ]
  },
  {
   "cell_type": "code",
   "execution_count": 25,
   "id": "fd0189b1",
   "metadata": {},
   "outputs": [
    {
     "data": {
      "text/plain": [
       "(417516, 132)"
      ]
     },
     "execution_count": 25,
     "metadata": {},
     "output_type": "execute_result"
    }
   ],
   "source": [
    "np.array(test_feat).shape"
   ]
  },
  {
   "cell_type": "markdown",
   "id": "819c458a",
   "metadata": {},
   "source": [
    "размерность данных уменьшилось в ширину до 132 признаков"
   ]
  },
  {
   "cell_type": "markdown",
   "id": "f51b2e64",
   "metadata": {},
   "source": [
    "### 4.2 - Выбор модели машинного обучения"
   ]
  },
  {
   "cell_type": "markdown",
   "id": "fb413ae6",
   "metadata": {},
   "source": [
    "логисчитеская регрессия"
   ]
  },
  {
   "cell_type": "code",
   "execution_count": 26,
   "id": "bdc23c8f",
   "metadata": {},
   "outputs": [
    {
     "name": "stdout",
     "output_type": "stream",
     "text": [
      "Wall time: 1min 6s\n"
     ]
    },
    {
     "data": {
      "text/plain": [
       "Pipeline(steps=[('scaler', StandardScaler()),\n",
       "                ('classifier', LogisticRegression())])"
      ]
     },
     "execution_count": 26,
     "metadata": {},
     "output_type": "execute_result"
    }
   ],
   "source": [
    "%%time\n",
    "lr_pipe = Pipeline([('scaler', StandardScaler()),\n",
    "                      ('classifier', LogisticRegression())])\n",
    "lr_pipe.fit(train_feat, y_train)"
   ]
  },
  {
   "cell_type": "code",
   "execution_count": 27,
   "id": "6834815c",
   "metadata": {},
   "outputs": [
    {
     "name": "stdout",
     "output_type": "stream",
     "text": [
      "0.689506742237247\n"
     ]
    }
   ],
   "source": [
    "probs = lr_pipe.predict_proba(test_feat)\n",
    "score_lr_scaled = roc_auc_score(y_test, probs[:, 1])\n",
    "print(score_lr_scaled)"
   ]
  },
  {
   "cell_type": "code",
   "execution_count": 28,
   "id": "2b35629a",
   "metadata": {},
   "outputs": [
    {
     "data": {
      "image/png": "[encoded data removed]",
      "text/plain": [
       "<Figure size 360x360 with 1 Axes>"
      ]
     },
     "metadata": {},
     "output_type": "display_data"
    }
   ],
   "source": [
    "bc = BinaryClassification(y_test, probs[:, 1], labels=[\"Class 1\", \"Class 2\"])\n",
    "\n",
    "# Figures\n",
    "plt.figure(figsize=(5,5))\n",
    "bc.plot_roc_curve()\n",
    "plt.show()"
   ]
  },
  {
   "cell_type": "markdown",
   "id": "7b7d06ab",
   "metadata": {},
   "source": [
    "ROC-AUC > 0.65, задача выполнена. Обучим другие модели классификации"
   ]
  },
  {
   "cell_type": "markdown",
   "id": "46e638ce",
   "metadata": {},
   "source": [
    "случайный лес"
   ]
  },
  {
   "cell_type": "code",
   "execution_count": 29,
   "id": "f621aad7",
   "metadata": {},
   "outputs": [
    {
     "name": "stdout",
     "output_type": "stream",
     "text": [
      "0.6489671697346944\n",
      "Wall time: 15min 19s\n"
     ]
    }
   ],
   "source": [
    "%%time\n",
    "tree = RandomForestClassifier()\n",
    "tr_pipe = Pipeline([('scaler', StandardScaler()),\n",
    "                      ('classifier', tree)])\n",
    "tr_pipe.fit(train_feat, y_train)\n",
    "probs_tr = tr_pipe.predict_proba(test_feat)\n",
    "score_tr_scaled = roc_auc_score(y_test, probs_tr[:, 1])\n",
    "print(score_tr_scaled)"
   ]
  },
  {
   "cell_type": "code",
   "execution_count": 30,
   "id": "8fe98a8e",
   "metadata": {},
   "outputs": [
    {
     "data": {
      "image/png": "[encoded data removed]",
      "text/plain": [
       "<Figure size 360x360 with 1 Axes>"
      ]
     },
     "metadata": {},
     "output_type": "display_data"
    }
   ],
   "source": [
    "bc_tr = BinaryClassification(y_test, probs_tr[:, 1], labels=[\"Class 1\", \"Class 2\"])\n",
    "\n",
    "# Figures\n",
    "plt.figure(figsize=(5,5))\n",
    "bc_tr.plot_roc_curve()\n",
    "plt.show()"
   ]
  },
  {
   "cell_type": "markdown",
   "id": "5b237b40",
   "metadata": {},
   "source": [
    "Линейный дискриминантный анализ"
   ]
  },
  {
   "cell_type": "code",
   "execution_count": 31,
   "id": "6cf03b6b",
   "metadata": {},
   "outputs": [
    {
     "name": "stdout",
     "output_type": "stream",
     "text": [
      "0.6866815584425026\n",
      "Wall time: 1min 47s\n"
     ]
    }
   ],
   "source": [
    "%%time\n",
    "nb_pipe = Pipeline([('scaler', StandardScaler()),\n",
    "                      ('classifier', LinearDiscriminantAnalysis())])\n",
    "nb_pipe.fit(train_feat, y_train)\n",
    "probs_nb = nb_pipe.predict_proba(test_feat)\n",
    "score_nb_scaled = roc_auc_score(y_test, probs_nb[:, 1])\n",
    "print(score_nb_scaled)"
   ]
  },
  {
   "cell_type": "code",
   "execution_count": 33,
   "id": "fae3767d",
   "metadata": {},
   "outputs": [
    {
     "data": {
      "image/png": "[encoded data removed]",
      "text/plain": [
       "<Figure size 360x360 with 1 Axes>"
      ]
     },
     "metadata": {},
     "output_type": "display_data"
    }
   ],
   "source": [
    "bc_nb = BinaryClassification(y_test, probs_nb[:, 1], labels=[\"Class 1\", \"Class 2\"])\n",
    "\n",
    "# Figures\n",
    "plt.figure(figsize=(5,5))\n",
    "bc_nb.plot_roc_curve()\n",
    "plt.show()"
   ]
  },
  {
   "cell_type": "markdown",
   "id": "0971c7c8",
   "metadata": {},
   "source": [
    "Многоуровневый классификатор Perceptron"
   ]
  },
  {
   "cell_type": "code",
   "execution_count": 34,
   "id": "1154e58e",
   "metadata": {},
   "outputs": [
    {
     "name": "stdout",
     "output_type": "stream",
     "text": [
      "0.7016702228366847\n",
      "Wall time: 11min 19s\n"
     ]
    }
   ],
   "source": [
    "%%time\n",
    "perp_pipe = Pipeline([('scaler', StandardScaler()),\n",
    "                      ('classifier', MLPClassifier())])\n",
    "perp_pipe.fit(train_feat, y_train)\n",
    "probs_perp = perp_pipe.predict_proba(test_feat)\n",
    "score_perp_scaled = roc_auc_score(y_test, probs_perp[:, 1])\n",
    "print(score_perp_scaled)"
   ]
  },
  {
   "cell_type": "code",
   "execution_count": 35,
   "id": "8157b55a",
   "metadata": {},
   "outputs": [
    {
     "data": {
      "image/png": "[encoded data removed]",
      "text/plain": [
       "<Figure size 360x360 with 1 Axes>"
      ]
     },
     "metadata": {},
     "output_type": "display_data"
    }
   ],
   "source": [
    "bc_perp = BinaryClassification(y_test, probs_perp[:, 1], labels=[\"Class 1\", \"Class 2\"])\n",
    "\n",
    "# Figures\n",
    "plt.figure(figsize=(5,5))\n",
    "bc_perp.plot_roc_curve()\n",
    "plt.show()"
   ]
  },
  {
   "cell_type": "markdown",
   "id": "cdbbe267",
   "metadata": {},
   "source": [
    "Персептрон лучше всех показал себя. ROC-AUC = 0.70."
   ]
  },
  {
   "cell_type": "code",
   "execution_count": 36,
   "id": "90a381e9",
   "metadata": {},
   "outputs": [
    {
     "name": "stdout",
     "output_type": "stream",
     "text": [
      "0.9687916151716341\n"
     ]
    }
   ],
   "source": [
    "predict = perp_pipe.predict(test_feat)\n",
    "accuracy = accuracy_score(y_test, predict)\n",
    "print(accuracy)"
   ]
  },
  {
   "cell_type": "code",
   "execution_count": 37,
   "id": "f43bcfe6",
   "metadata": {},
   "outputs": [
    {
     "data": {
      "text/plain": [
       "array([[404483,      0],\n",
       "       [ 13030,      3]], dtype=int64)"
      ]
     },
     "execution_count": 37,
     "metadata": {},
     "output_type": "execute_result"
    }
   ],
   "source": [
    "confusion_matrix(y_test, predict)"
   ]
  },
  {
   "cell_type": "markdown",
   "id": "cc82d773",
   "metadata": {},
   "source": [
    "В таком виде с стандартным порогом персептрон практически не предсказывает класс = 1, но и ошибок в предсказании класса 0 нет"
   ]
  },
  {
   "cell_type": "code",
   "execution_count": 38,
   "id": "694d18ec",
   "metadata": {},
   "outputs": [],
   "source": [
    "def qwerty(q, k):\n",
    "    for i in range(0, len(q)):\n",
    "        if q[i] < k:\n",
    "            q[i] = 0\n",
    "        else:\n",
    "            q[i] = 1\n",
    "    return q"
   ]
  },
  {
   "cell_type": "code",
   "execution_count": 68,
   "id": "87532095",
   "metadata": {},
   "outputs": [
    {
     "data": {
      "text/plain": [
       "array([[ 63233, 341250],\n",
       "       [   282,  12751]], dtype=int64)"
      ]
     },
     "execution_count": 68,
     "metadata": {},
     "output_type": "execute_result"
    }
   ],
   "source": [
    "q = probs_perp[:, 1].copy()\n",
    "qwerty(q, 0.009)\n",
    "confusion_matrix(y_test, q)"
   ]
  },
  {
   "cell_type": "markdown",
   "id": "119ebe53",
   "metadata": {},
   "source": [
    "Так как в задаче не сказано для чего именно нам нужно предсказание целевого действия, мы не можем определить, какой порог нам\n",
    "необходим. Если нам нужно предсказать как можно больше клиентов, которые выполнят целевое действие, то порог должен быть малым\n",
    "и будет большая ошибка (только 5-10% предсказаний будет верным). Если нам необходимо предсказать как можно точнее, то порог\n",
    "должен быть большим и количество True postive будем малым"
   ]
  },
  {
   "cell_type": "code",
   "execution_count": null,
   "id": "d03bd0c5",
   "metadata": {},
   "outputs": [],
   "source": []
  }
 ],
 "metadata": {
  "kernelspec": {
   "display_name": "Python 3",
   "language": "python",
   "name": "python3"
  },
  "language_info": {
   "codemirror_mode": {
    "name": "ipython",
    "version": 3
   },
   "file_extension": ".py",
   "mimetype": "text/x-python",
   "name": "python",
   "nbconvert_exporter": "python",
   "pygments_lexer": "ipython3",
   "version": "3.8.8"
  }
 },
 "nbformat": 4,
 "nbformat_minor": 5
}
